{
 "cells": [
  {
   "cell_type": "code",
   "execution_count": null,
   "metadata": {},
   "outputs": [
    {
     "name": "stderr",
     "output_type": "stream",
     "text": [
      "09:49AM 03s CRITICAL [_qt_message_handler]: line: 0, func: None(), file: None  WARNING: Populating font family aliases took 210 ms. Replace uses of missing font family \"Courier\" with one that exists to avoid this cost. \n",
      "\n",
      "09:49AM 04s CRITICAL [_qt_message_handler]: line: 0, func: None(), file: None  CRITICAL: <QNSWindow: 0x7ff01c80c860; contentView=<QNSView: 0x7ff01c80c140; QCocoaWindow(0x7ff01c80c030, window=QWidgetWindow(0x7ff01b7507b0, name=\"MainWindowPlotWindow\"))>> has active key-value observers (KVO)! These will stop working now that the window is recreated, and will result in exceptions when the observers are removed. Break in QCocoaWindow::recreateWindowIfNeeded to debug.\n",
      "\n",
      "09:49AM 04s CRITICAL [_qt_message_handler]: line: 0, func: None(), file: None  CRITICAL: <QNSWindow: 0x7ff01badc750; contentView=<QNSView: 0x7ff01badc030; QCocoaWindow(0x7ff01badbf20, window=QWidgetWindow(0x7ff01badb9a0, name=\"ElementsWindowWindow\"))>> has active key-value observers (KVO)! These will stop working now that the window is recreated, and will result in exceptions when the observers are removed. Break in QCocoaWindow::recreateWindowIfNeeded to debug.\n",
      "\n",
      "09:49AM 04s CRITICAL [_qt_message_handler]: line: 0, func: None(), file: None  CRITICAL: <QNSWindow: 0x7ff01baa7570; contentView=<QNSView: 0x7ff01baa6de0; QCocoaWindow(0x7ff01baa6cd0, window=QWidgetWindow(0x7ff01baa6a50, name=\"MainWindowWindow\"))>> has active key-value observers (KVO)! These will stop working now that the window is recreated, and will result in exceptions when the observers are removed. Break in QCocoaWindow::recreateWindowIfNeeded to debug.\n",
      "\n",
      "09:49AM 04s CRITICAL [_qt_message_handler]: line: 0, func: None(), file: None  CRITICAL: <QNSWindow: 0x7ff01bae2590; contentView=<QNSView: 0x7ff01bae69e0; QCocoaWindow(0x7ff01bae68d0, window=QWidgetWindow(0x7ff01baa8140, name=\"NetListWindowWindow\"))>> has active key-value observers (KVO)! These will stop working now that the window is recreated, and will result in exceptions when the observers are removed. Break in QCocoaWindow::recreateWindowIfNeeded to debug.\n",
      "\n"
     ]
    }
   ],
   "source": [
    "import qiskit_metal\n",
    "from qiskit_metal import designs\n",
    "design = designs.DesignPlanar()\n",
    "\n",
    "from qiskit_metal import MetalGUI\n",
    "gui = MetalGUI(design)\n",
    "gui.show()"
   ]
  },
  {
   "cell_type": "code",
   "execution_count": 17,
   "metadata": {},
   "outputs": [],
   "source": [
    "from qiskit_metal.qlibrary.qubits.transmon_pocket import TransmonPocket\n",
    "\n",
    "qubit = TransmonPocket(design, 'Q0', options = {'pos_x': '0um', 'pos_y': '0um', 'pad_width': '60um', 'pad_height': '60um'})\n",
    "\n",
    "gui.rebuild()"
   ]
  }
 ],
 "metadata": {
  "kernelspec": {
   "display_name": "qiskit-metal-rosetta",
   "language": "python",
   "name": "python3"
  },
  "language_info": {
   "codemirror_mode": {
    "name": "ipython",
    "version": 3
   },
   "file_extension": ".py",
   "mimetype": "text/x-python",
   "name": "python",
   "nbconvert_exporter": "python",
   "pygments_lexer": "ipython3",
   "version": "3.9.23"
  }
 },
 "nbformat": 4,
 "nbformat_minor": 2
}
