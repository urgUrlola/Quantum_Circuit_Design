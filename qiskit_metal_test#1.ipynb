{
 "cells": [
  {
   "cell_type": "code",
   "execution_count": 8,
   "metadata": {},
   "outputs": [
    {
     "name": "stderr",
     "output_type": "stream",
     "text": [
      "10:45PM 15s CRITICAL [_qt_message_handler]: line: 0, func: None(), file: None  CRITICAL: <QNSWindow: 0x7fcae6a1ce60; contentView=<QNSView: 0x7fcae6a1c740; QCocoaWindow(0x7fcae6a1c630, window=QWidgetWindow(0x7fcae6a1c0d0, name=\"MainWindowPlotWindow\"))>> has active key-value observers (KVO)! These will stop working now that the window is recreated, and will result in exceptions when the observers are removed. Break in QCocoaWindow::recreateWindowIfNeeded to debug.\n",
      "\n",
      "10:45PM 15s CRITICAL [_qt_message_handler]: line: 0, func: None(), file: None  CRITICAL: <QNSWindow: 0x7fcb202d1180; contentView=<QNSView: 0x7fcb202d0a40; QCocoaWindow(0x7fcb202d0930, window=QWidgetWindow(0x7fcb202d03d0, name=\"ElementsWindowWindow\"))>> has active key-value observers (KVO)! These will stop working now that the window is recreated, and will result in exceptions when the observers are removed. Break in QCocoaWindow::recreateWindowIfNeeded to debug.\n",
      "\n",
      "10:45PM 15s CRITICAL [_qt_message_handler]: line: 0, func: None(), file: None  CRITICAL: <QNSWindow: 0x7fcb202acfa0; contentView=<QNSView: 0x7fcb202ac840; QCocoaWindow(0x7fcb202ac730, window=QWidgetWindow(0x7fcb202ac4f0, name=\"MainWindowWindow\"))>> has active key-value observers (KVO)! These will stop working now that the window is recreated, and will result in exceptions when the observers are removed. Break in QCocoaWindow::recreateWindowIfNeeded to debug.\n",
      "\n",
      "10:45PM 15s CRITICAL [_qt_message_handler]: line: 0, func: None(), file: None  CRITICAL: <QNSWindow: 0x7fcae6a2d310; contentView=<QNSView: 0x7fcae6a2cbd0; QCocoaWindow(0x7fcae6a2cac0, window=QWidgetWindow(0x7fcae6a2c560, name=\"NetListWindowWindow\"))>> has active key-value observers (KVO)! These will stop working now that the window is recreated, and will result in exceptions when the observers are removed. Break in QCocoaWindow::recreateWindowIfNeeded to debug.\n",
      "\n"
     ]
    }
   ],
   "source": [
    "from qiskit_metal import designs\n",
    "design = designs.DesignPlanar()\n",
    "\n",
    "from qiskit_metal import MetalGUI\n",
    "gui = MetalGUI(design)\n",
    "gui.show()\n",
    "\n",
    "from qiskit_metal.qlibrary.qubits.transmon_pocket import TransmonPocket\n",
    "\n",
    "\n",
    "\n"
   ]
  }
 ],
 "metadata": {
  "kernelspec": {
   "display_name": "qiskit-metal-rosetta",
   "language": "python",
   "name": "python3"
  },
  "language_info": {
   "codemirror_mode": {
    "name": "ipython",
    "version": 3
   },
   "file_extension": ".py",
   "mimetype": "text/x-python",
   "name": "python",
   "nbconvert_exporter": "python",
   "pygments_lexer": "ipython3",
   "version": "3.9.23"
  }
 },
 "nbformat": 4,
 "nbformat_minor": 2
}
