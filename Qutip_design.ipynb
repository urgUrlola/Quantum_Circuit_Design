{
 "cells": [
  {
   "cell_type": "code",
   "execution_count": null,
   "id": "c208bf15",
   "metadata": {
    "vscode": {
     "languageId": "plaintext"
    }
   },
   "outputs": [],
   "source": [
    "import numpy as np\n",
    "import matplotlib.pyplot as plt\n",
    "from qutip import *\n",
    "\n",
    "# System parameters\n",
    "wc = 1.0 * 2 * np.pi        # resonator frequency\n",
    "wa = 1.0 * 2 * np.pi        # qubit frequency\n",
    "g = 0.05 * 2 * np.pi        # coupling strength\n",
    "\n",
    "N = 10                      # number of Fock states in resonator\n",
    "\n",
    "# Operators\n",
    "a = tensor(destroy(N), qeye(2))          # resonator lowering operator\n",
    "sm = tensor(qeye(N), destroy(2))         # qubit lowering operator\n",
    "\n",
    "# Hamiltonian: Jaynes-Cummings model\n",
    "H = wc * a.dag() * a + wa * sm.dag() * sm + g * (a.dag() * sm + a * sm.dag())\n",
    "\n",
    "# Initial state: qubit excited, resonator vacuum\n",
    "psi0 = tensor(basis(N, 0), basis(2, 1))\n",
    "\n",
    "# Time evolution\n",
    "tlist = np.linspace(0, 25, 500)\n",
    "result = mesolve(H, psi0, tlist, [], [a.dag()*a, sm.dag()*sm])\n",
    "\n",
    "# Plot expectation values\n",
    "plt.plot(tlist, result.expect[0], label=\"Resonator ⟨a†a⟩\")\n",
    "plt.plot(tlist, result.expect[1], label=\"Qubit ⟨σ+σ−⟩\")\n",
    "plt.xlabel(\"Time\")\n",
    "plt.ylabel(\"Occupation\")\n",
    "plt.legend()\n",
    "plt.title(\"Jaynes–Cummings Dynamics: Resonator & Qubit\")\n",
    "plt.grid()\n",
    "plt.show()\n"
   ]
  }
 ],
 "metadata": {
  "language_info": {
   "name": "python"
  }
 },
 "nbformat": 4,
 "nbformat_minor": 5
}
