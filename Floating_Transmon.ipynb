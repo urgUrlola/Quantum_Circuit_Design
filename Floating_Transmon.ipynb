{
 "cells": [
  {
   "cell_type": "code",
   "execution_count": 6,
   "metadata": {},
   "outputs": [],
   "source": [
    "import qiskit_metal as metal\n",
    "from qiskit_metal import designs, draw, MetalGUI, Dict, open_docs\n",
    "from qiskit_metal.qlibrary.qubits.transmon_pocket import TransmonPocket"
   ]
  },
  {
   "cell_type": "code",
   "execution_count": 7,
   "metadata": {},
   "outputs": [
    {
     "name": "stderr",
     "output_type": "stream",
     "text": [
      "09:45AM 21s CRITICAL [_qt_message_handler]: line: 0, func: None(), file: None  CRITICAL: <QNSWindow: 0x7fd1cbaa2ed0; contentView=<QNSView: 0x7fd1cbaa2790; QCocoaWindow(0x7fd1cbaa2680, window=QWidgetWindow(0x7fd1cbaa2120, name=\"MainWindowPlotWindow\"))>> has active key-value observers (KVO)! These will stop working now that the window is recreated, and will result in exceptions when the observers are removed. Break in QCocoaWindow::recreateWindowIfNeeded to debug.\n",
      "\n",
      "09:45AM 21s CRITICAL [_qt_message_handler]: line: 0, func: None(), file: None  CRITICAL: <QNSWindow: 0x7fd1cb6d6fe0; contentView=<QNSView: 0x7fd1cb6d68a0; QCocoaWindow(0x7fd1cb6d6790, window=QWidgetWindow(0x7fd1cb6d6210, name=\"ElementsWindowWindow\"))>> has active key-value observers (KVO)! These will stop working now that the window is recreated, and will result in exceptions when the observers are removed. Break in QCocoaWindow::recreateWindowIfNeeded to debug.\n",
      "\n",
      "09:45AM 21s CRITICAL [_qt_message_handler]: line: 0, func: None(), file: None  CRITICAL: <QNSWindow: 0x7fd1cba87030; contentView=<QNSView: 0x7fd1cba868b0; QCocoaWindow(0x7fd1cba867a0, window=QWidgetWindow(0x7fd1cba85e90, name=\"MainWindowWindow\"))>> has active key-value observers (KVO)! These will stop working now that the window is recreated, and will result in exceptions when the observers are removed. Break in QCocoaWindow::recreateWindowIfNeeded to debug.\n",
      "\n",
      "09:45AM 21s CRITICAL [_qt_message_handler]: line: 0, func: None(), file: None  CRITICAL: <QNSWindow: 0x7fd1cb6ef950; contentView=<QNSView: 0x7fd1cb6ef210; QCocoaWindow(0x7fd1cb6ef100, window=QWidgetWindow(0x7fd1cb6eeb20, name=\"NetListWindowWindow\"))>> has active key-value observers (KVO)! These will stop working now that the window is recreated, and will result in exceptions when the observers are removed. Break in QCocoaWindow::recreateWindowIfNeeded to debug.\n",
      "\n"
     ]
    }
   ],
   "source": [
    "design = designs.DesignPlanar()\n",
    "gui = MetalGUI(design)\n",
    "design.overwrite_enabled = True"
   ]
  },
  {
   "cell_type": "code",
   "execution_count": 8,
   "metadata": {},
   "outputs": [],
   "source": [
    "transmon_options = dict(\n",
    "    pos_x = '2mm',\n",
    "    pos_y = '3mm',\n",
    "    orientation = '-180',\n",
    "\n",
    "    connection_pads=dict(\n",
    "        a = dict(loc_W=+1, loc_H=-1, pad_width='80um', cpw_extend = '60um'),\n",
    "        b = dict(loc_W=-1, loc_H=-1, pad_width='135um', cpw_extend = '60um', pad_height='70um'),\n",
    "        c = dict(loc_W=+1, loc_H=+1, pad_width='120um', cpw_extend = '60um')\n",
    "    ),\n",
    "\n",
    "    gds_cell_name='FakeJunction_01',\n",
    ")\n",
    "\n",
    "q1 = TransmonPocket(design, 'Q1', options=transmon_options)\n",
    "\n",
    "gui.rebuild()  \n",
    "gui.autoscale() \n",
    "gui.zoom_on_components(['Q1']) "
   ]
  },
  {
   "cell_type": "code",
   "execution_count": 9,
   "metadata": {},
   "outputs": [
    {
     "data": {
      "text/plain": [
       "\u001b[95m\u001b[1mname:    \u001b[94m\u001b[1mQ1\u001b[0m\n",
       "\u001b[95m\u001b[1mclass:   \u001b[94m\u001b[1mTransmonPocket        \u001b[0m\n",
       "\u001b[95m\u001b[1moptions: \u001b[0m\n",
       "  'pos_x'             : '2mm',                        \n",
       "  'pos_y'             : '3mm',                        \n",
       "  'orientation'       : '-180',                       \n",
       "  'chip'              : 'main',                       \n",
       "  'layer'             : '1',                          \n",
       "  \u001b[1m'connection_pads'   \u001b[0m: {\n",
       "       \u001b[1m'a'                 \u001b[0m: {\n",
       "            'pad_gap'           : '15um',                       \n",
       "            'pad_width'         : '80um',                       \n",
       "            'pad_height'        : '30um',                       \n",
       "            'pad_cpw_shift'     : '5um',                        \n",
       "            'pad_cpw_extent'    : '25um',                       \n",
       "            'cpw_width'         : 'cpw_width',                  \n",
       "            'cpw_gap'           : 'cpw_gap',                    \n",
       "            'cpw_extend'        : '60um',                       \n",
       "            'pocket_extent'     : '5um',                        \n",
       "            'pocket_rise'       : '65um',                       \n",
       "            'loc_W'             : 1,                            \n",
       "            'loc_H'             : -1,                           \n",
       "                             },\n",
       "       \u001b[1m'b'                 \u001b[0m: {\n",
       "            'pad_gap'           : '15um',                       \n",
       "            'pad_width'         : '135um',                      \n",
       "            'pad_height'        : '70um',                       \n",
       "            'pad_cpw_shift'     : '5um',                        \n",
       "            'pad_cpw_extent'    : '25um',                       \n",
       "            'cpw_width'         : 'cpw_width',                  \n",
       "            'cpw_gap'           : 'cpw_gap',                    \n",
       "            'cpw_extend'        : '60um',                       \n",
       "            'pocket_extent'     : '5um',                        \n",
       "            'pocket_rise'       : '65um',                       \n",
       "            'loc_W'             : -1,                           \n",
       "            'loc_H'             : -1,                           \n",
       "                             },\n",
       "       \u001b[1m'c'                 \u001b[0m: {\n",
       "            'pad_gap'           : '15um',                       \n",
       "            'pad_width'         : '120um',                      \n",
       "            'pad_height'        : '30um',                       \n",
       "            'pad_cpw_shift'     : '5um',                        \n",
       "            'pad_cpw_extent'    : '25um',                       \n",
       "            'cpw_width'         : 'cpw_width',                  \n",
       "            'cpw_gap'           : 'cpw_gap',                    \n",
       "            'cpw_extend'        : '60um',                       \n",
       "            'pocket_extent'     : '5um',                        \n",
       "            'pocket_rise'       : '65um',                       \n",
       "            'loc_W'             : 1,                            \n",
       "            'loc_H'             : 1,                            \n",
       "                             },\n",
       "                        },\n",
       "  'pad_gap'           : '30um',                       \n",
       "  'inductor_width'    : '20um',                       \n",
       "  'pad_width'         : '455um',                      \n",
       "  'pad_height'        : '90um',                       \n",
       "  'pocket_width'      : '650um',                      \n",
       "  'pocket_height'     : '650um',                      \n",
       "  'hfss_wire_bonds'   : False,                        \n",
       "  'q3d_wire_bonds'    : False,                        \n",
       "  'aedt_q3d_wire_bonds': False,                        \n",
       "  'aedt_hfss_wire_bonds': False,                        \n",
       "  'hfss_inductance'   : '10nH',                       \n",
       "  'hfss_capacitance'  : 0,                            \n",
       "  'hfss_resistance'   : 0,                            \n",
       "  'hfss_mesh_kw_jj'   : 7e-06,                        \n",
       "  'q3d_inductance'    : '10nH',                       \n",
       "  'q3d_capacitance'   : 0,                            \n",
       "  'q3d_resistance'    : 0,                            \n",
       "  'q3d_mesh_kw_jj'    : 7e-06,                        \n",
       "  'gds_cell_name'     : 'FakeJunction_01',            \n",
       "  'aedt_q3d_inductance': 1e-08,                        \n",
       "  'aedt_q3d_capacitance': 0,                            \n",
       "  'aedt_hfss_inductance': 1e-08,                        \n",
       "  'aedt_hfss_capacitance': 0,                            \n",
       "\u001b[95m\u001b[1mmodule:  \u001b[94m\u001b[1mqiskit_metal.qlibrary.qubits.transmon_pocket\u001b[0m\n",
       "\u001b[95m\u001b[1mid:      \u001b[94m\u001b[1m1\u001b[0m"
      ]
     },
     "execution_count": 9,
     "metadata": {},
     "output_type": "execute_result"
    }
   ],
   "source": [
    "q1"
   ]
  }
 ],
 "metadata": {
  "kernelspec": {
   "display_name": "qiskit-metal-rosetta",
   "language": "python",
   "name": "python3"
  },
  "language_info": {
   "codemirror_mode": {
    "name": "ipython",
    "version": 3
   },
   "file_extension": ".py",
   "mimetype": "text/x-python",
   "name": "python",
   "nbconvert_exporter": "python",
   "pygments_lexer": "ipython3",
   "version": "3.9.23"
  }
 },
 "nbformat": 4,
 "nbformat_minor": 2
}
