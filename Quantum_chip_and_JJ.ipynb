{
 "cells": [
  {
   "cell_type": "code",
   "execution_count": 1,
   "metadata": {},
   "outputs": [
    {
     "name": "stderr",
     "output_type": "stream",
     "text": [
      "10:52AM 38s CRITICAL [_qt_message_handler]: line: 0, func: None(), file: None  WARNING: Populating font family aliases took 204 ms. Replace uses of missing font family \"Courier\" with one that exists to avoid this cost. \n",
      "\n",
      "10:52AM 38s CRITICAL [_qt_message_handler]: line: 0, func: None(), file: None  CRITICAL: <QNSWindow: 0x7fcd0cf82a20; contentView=<QNSView: 0x7fcd0cf82300; QCocoaWindow(0x7fcd0cf821f0, window=QWidgetWindow(0x7fcd0cf81c90, name=\"MainWindowPlotWindow\"))>> has active key-value observers (KVO)! These will stop working now that the window is recreated, and will result in exceptions when the observers are removed. Break in QCocoaWindow::recreateWindowIfNeeded to debug.\n",
      "\n",
      "10:52AM 38s CRITICAL [_qt_message_handler]: line: 0, func: None(), file: None  CRITICAL: <QNSWindow: 0x7fcd0d868970; contentView=<QNSView: 0x7fcd0d868250; QCocoaWindow(0x7fcd0d868140, window=QWidgetWindow(0x7fcd0d867be0, name=\"ElementsWindowWindow\"))>> has active key-value observers (KVO)! These will stop working now that the window is recreated, and will result in exceptions when the observers are removed. Break in QCocoaWindow::recreateWindowIfNeeded to debug.\n",
      "\n",
      "10:52AM 38s CRITICAL [_qt_message_handler]: line: 0, func: None(), file: None  CRITICAL: <QNSWindow: 0x7fcd0d84e650; contentView=<QNSView: 0x7fcd0d84dec0; QCocoaWindow(0x7fcd0d84ddb0, window=QWidgetWindow(0x7fcd0d84d8b0, name=\"MainWindowWindow\"))>> has active key-value observers (KVO)! These will stop working now that the window is recreated, and will result in exceptions when the observers are removed. Break in QCocoaWindow::recreateWindowIfNeeded to debug.\n",
      "\n",
      "10:52AM 38s CRITICAL [_qt_message_handler]: line: 0, func: None(), file: None  CRITICAL: <QNSWindow: 0x7fcd0d9361a0; contentView=<QNSView: 0x7fcd0d935a80; QCocoaWindow(0x7fcd0d935970, window=QWidgetWindow(0x7fcd0d935410, name=\"NetListWindowWindow\"))>> has active key-value observers (KVO)! These will stop working now that the window is recreated, and will result in exceptions when the observers are removed. Break in QCocoaWindow::recreateWindowIfNeeded to debug.\n",
      "\n"
     ]
    }
   ],
   "source": [
    "import qiskit_metal\n",
    "from qiskit_metal import designs\n",
    "design = designs.DesignPlanar()\n",
    "\n",
    "from qiskit_metal import MetalGUI\n",
    "gui = MetalGUI(design)\n",
    "gui.show()\n",
    "\n"
   ]
  },
  {
   "cell_type": "code",
   "execution_count": 2,
   "metadata": {},
   "outputs": [],
   "source": [
    "from qiskit_metal.qlibrary.qubits.transmon_pocket import TransmonPocket\n",
    "\n",
    "qubit = TransmonPocket(design, 'Q0', options = {'pos_x': '0um', 'pos_y': '0um', 'pad_width': '60um', 'pad_height': '60um'})\n",
    "\n",
    "gui.rebuild()"
   ]
  }
 ],
 "metadata": {
  "kernelspec": {
   "display_name": "qiskit-metal-rosetta",
   "language": "python",
   "name": "python3"
  },
  "language_info": {
   "codemirror_mode": {
    "name": "ipython",
    "version": 3
   },
   "file_extension": ".py",
   "mimetype": "text/x-python",
   "name": "python",
   "nbconvert_exporter": "python",
   "pygments_lexer": "ipython3",
   "version": "3.9.23"
  }
 },
 "nbformat": 4,
 "nbformat_minor": 2
}
