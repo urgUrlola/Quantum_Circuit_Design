{
 "cells": [
  {
   "cell_type": "code",
   "execution_count": 1,
   "metadata": {},
   "outputs": [
    {
     "name": "stdout",
     "output_type": "stream",
     "text": [
      "Transmon energy levels:\n",
      "Level 0: -9198778807.5923 GHz\n",
      "Level 1: -3264183905.3463 GHz\n",
      "Level 2: 3107116603.3123 GHz\n",
      "\n",
      "f01 = 5934594902.2459 GHz\n",
      "f12 = 6371300508.6586 GHz\n",
      "Anharmonicity = 436705606.4127 GHz\n"
     ]
    }
   ],
   "source": [
    "import numpy as np\n",
    "import matplotlib.pyplot as plt\n",
    "from qutip import *\n",
    "\n",
    "EJ = 12e9\n",
    "EC = 300e6\n",
    "ng = 0\n",
    "N = 2\n",
    "\n",
    "n_vals = np.arange(-N, N+1)\n",
    "dim_qubit = len(n_vals)\n",
    "\n",
    "n_op = Qobj(np.diag(n_vals), dims=[[dim_qubit], [dim_qubit]])\n",
    "shift_right = Qobj(np.diag(np.ones(dim_qubit - 1), 1), dims=[[dim_qubit], [dim_qubit]])\n",
    "shift_left = shift_right.dag()\n",
    "cos_phi = (shift_right + shift_left) / 2\n",
    "\n",
    "H_transmon = 4 * EC * (n_op - ng)**2 - EJ * cos_phi\n",
    "\n",
    "eigenenergies = H_transmon.eigenenergies()\n",
    "\n",
    "print(\"Transmon energy levels:\")\n",
    "for i, E in enumerate(eigenenergies[:3]):\n",
    "    print(f\"Level {i}: {E:.4f} GHz\")\n",
    "\n",
    "f01_a = eigenenergies[1] - eigenenergies[0]\n",
    "f12 = eigenenergies[2] - eigenenergies[1]\n",
    "print(f\"\\nf01 = {f01_a:.4f} GHz\")\n",
    "print(f\"f12 = {f12:.4f} GHz\")\n",
    "print(f\"Anharmonicity = {f12 - f01_a:.4f} GHz\")"
   ]
  },
  {
   "cell_type": "code",
   "execution_count": 2,
   "metadata": {},
   "outputs": [
    {
     "name": "stdout",
     "output_type": "stream",
     "text": [
      "Hybridized energy levels (lowest 6):\n",
      "Level 0: -9198778807.5922 GHz\n",
      "Level 1: -3264207370.0824 GHz\n",
      "Level 2: -2198755342.8562 GHz\n",
      "Level 3: 3107116603.3123 GHz\n",
      "Level 4: 3735769166.2151 GHz\n",
      "Level 5: 4801268120.8464 GHz\n",
      "\n",
      "Qubit transition frequency f01: 5934571437.5099 GHz\n",
      "Second transition frequency f12: 1065452027.2262 GHz\n",
      "Anharmonicity (f12 - f01): -4869119410.2837 GHz\n"
     ]
    }
   ],
   "source": [
    "omega_r = 7e9 \n",
    "n_res = 10\n",
    "a = destroy(n_res)\n",
    "H_resonator = omega_r * a.dag() * a\n",
    "\n",
    "H_total = tensor(H_transmon, qeye(n_res)) + tensor(qeye(dim_qubit), H_resonator)\n",
    "\n",
    "g = 5e6\n",
    "\n",
    "evals, evecs = H_transmon.eigenstates()\n",
    "proj_01 = evecs[0] * evecs[1].dag()\n",
    "H_int = g * (tensor(proj_01.dag(), a) + tensor(proj_01, a.dag()))\n",
    "\n",
    "H_total += H_int\n",
    "\n",
    "eigenenergies_coupled = H_total.eigenenergies()\n",
    "\n",
    "print(\"Hybridized energy levels (lowest 6):\")\n",
    "for i, E in enumerate(eigenenergies_coupled[:6]):\n",
    "    print(f\"Level {i}: {E:.4f} GHz\")\n",
    "\n",
    "f01_b = eigenenergies_coupled[1] - eigenenergies_coupled[0]\n",
    "f12 = eigenenergies_coupled[2] - eigenenergies_coupled[1]\n",
    "anharmonicity = f12 - f01_b\n",
    "\n",
    "print(f\"\\nQubit transition frequency f01: {f01_b:.4f} GHz\")\n",
    "print(f\"Second transition frequency f12: {f12:.4f} GHz\")\n",
    "print(f\"Anharmonicity (f12 - f01): {anharmonicity:.4f} GHz\")"
   ]
  },
  {
   "cell_type": "code",
   "execution_count": 3,
   "metadata": {},
   "outputs": [
    {
     "data": {
      "image/png": "[encoded data removed]",
      "text/plain": [
       "<Figure size 640x480 with 1 Axes>"
      ]
     },
     "metadata": {},
     "output_type": "display_data"
    }
   ],
   "source": [
    "drive_amp = 0.05        \n",
    "drive_freq = omega_r     \n",
    "drive_duration = 5000e-9      \n",
    "tlist = np.linspace(0, drive_duration, 5000)\n",
    "\n",
    "def gaussian_pulse(t, args):\n",
    "    t0 = drive_duration / 2\n",
    "    sigma = drive_duration / 6\n",
    "    return drive_amp * np.exp(-(t - t0)**2 / (2 * sigma**2))\n",
    "\n",
    "H_drive = [tensor(qeye(dim_qubit), a + a.dag()), gaussian_pulse]\n",
    "\n",
    "psi0 = tensor(H_transmon.groundstate()[1], basis(n_res, 0))\n",
    "\n",
    "c_ops = []\n",
    "\n",
    "H_qubit = tensor(H_transmon, qeye(n_res))\n",
    "H_res = tensor(qeye(dim_qubit), H_resonator)\n",
    "H_full = H_qubit + H_res + H_int\n",
    "\n",
    "drive_op = tensor(qeye(dim_qubit), a + a.dag())\n",
    "\n",
    "H_total = [H_full, [drive_op, gaussian_pulse]]\n",
    "\n",
    "\n",
    "result = mesolve(H_total, psi0, tlist, c_ops, [tensor(qeye(dim_qubit), a.dag() * a)])\n",
    "\n",
    "plt.plot(tlist, result.expect[0])\n",
    "plt.xlabel('Time (ns)')\n",
    "plt.ylabel('Resonator photon number')\n",
    "plt.title('Driven resonator photon number')\n",
    "plt.show()"
   ]
  },
  {
   "cell_type": "code",
   "execution_count": 4,
   "metadata": {},
   "outputs": [
    {
     "name": "stderr",
     "output_type": "stream",
     "text": [
      "capi_return is NULL\n",
      "Call-back cb_f_in_zvode__user__routines failed.\n"
     ]
    },
    {
     "ename": "KeyboardInterrupt",
     "evalue": "",
     "output_type": "error",
     "traceback": [
      "\u001b[0;31m---------------------------------------------------------------------------\u001b[0m",
      "\u001b[0;31mKeyboardInterrupt\u001b[0m                         Traceback (most recent call last)",
      "Cell \u001b[0;32mIn[4], line 22\u001b[0m\n\u001b[1;32m     19\u001b[0m \u001b[38;5;28;01mif\u001b[39;00m gamma_phi \u001b[38;5;241m>\u001b[39m \u001b[38;5;241m0\u001b[39m:\n\u001b[1;32m     20\u001b[0m     c_ops\u001b[38;5;241m.\u001b[39mappend(np\u001b[38;5;241m.\u001b[39msqrt(gamma_phi) \u001b[38;5;241m*\u001b[39m sz)\n\u001b[0;32m---> 22\u001b[0m result \u001b[38;5;241m=\u001b[39m \u001b[43mmesolve\u001b[49m\u001b[43m(\u001b[49m\u001b[43mH_total\u001b[49m\u001b[43m,\u001b[49m\u001b[43m \u001b[49m\u001b[43mpsi0\u001b[49m\u001b[43m,\u001b[49m\u001b[43m \u001b[49m\u001b[43mtlist\u001b[49m\u001b[43m,\u001b[49m\u001b[43m \u001b[49m\u001b[43mc_ops\u001b[49m\u001b[43m,\u001b[49m\u001b[43m \u001b[49m\u001b[43m[\u001b[49m\n\u001b[1;32m     23\u001b[0m \u001b[43m    \u001b[49m\u001b[43mtensor\u001b[49m\u001b[43m(\u001b[49m\u001b[43mqeye\u001b[49m\u001b[43m(\u001b[49m\u001b[43mdim_qubit\u001b[49m\u001b[43m)\u001b[49m\u001b[43m,\u001b[49m\u001b[43m \u001b[49m\u001b[43ma\u001b[49m\u001b[38;5;241;43m.\u001b[39;49m\u001b[43mdag\u001b[49m\u001b[43m(\u001b[49m\u001b[43m)\u001b[49m\u001b[43m \u001b[49m\u001b[38;5;241;43m*\u001b[39;49m\u001b[43m \u001b[49m\u001b[43ma\u001b[49m\u001b[43m)\u001b[49m\u001b[43m,\u001b[49m\u001b[43m  \u001b[49m\u001b[38;5;66;43;03m# resonator photon number\u001b[39;49;00m\n\u001b[1;32m     24\u001b[0m \u001b[43m    \u001b[49m\u001b[43mtensor\u001b[49m\u001b[43m(\u001b[49m\u001b[43mbasis\u001b[49m\u001b[43m(\u001b[49m\u001b[43mdim_qubit\u001b[49m\u001b[43m,\u001b[49m\u001b[38;5;241;43m1\u001b[39;49m\u001b[43m)\u001b[49m\u001b[43m \u001b[49m\u001b[38;5;241;43m*\u001b[39;49m\u001b[43m \u001b[49m\u001b[43mbasis\u001b[49m\u001b[43m(\u001b[49m\u001b[43mdim_qubit\u001b[49m\u001b[43m,\u001b[49m\u001b[38;5;241;43m1\u001b[39;49m\u001b[43m)\u001b[49m\u001b[38;5;241;43m.\u001b[39;49m\u001b[43mdag\u001b[49m\u001b[43m(\u001b[49m\u001b[43m)\u001b[49m\u001b[43m,\u001b[49m\u001b[43m \u001b[49m\u001b[43mqeye\u001b[49m\u001b[43m(\u001b[49m\u001b[43mn_res\u001b[49m\u001b[43m)\u001b[49m\u001b[43m)\u001b[49m\u001b[43m  \u001b[49m\u001b[38;5;66;43;03m# qubit excited state population\u001b[39;49;00m\n\u001b[1;32m     25\u001b[0m \u001b[43m]\u001b[49m\u001b[43m)\u001b[49m\n\u001b[1;32m     27\u001b[0m plt\u001b[38;5;241m.\u001b[39mplot(tlist, result\u001b[38;5;241m.\u001b[39mexpect[\u001b[38;5;241m0\u001b[39m], label\u001b[38;5;241m=\u001b[39m\u001b[38;5;124m\"\u001b[39m\u001b[38;5;124mResonator photon number\u001b[39m\u001b[38;5;124m\"\u001b[39m)\n\u001b[1;32m     28\u001b[0m plt\u001b[38;5;241m.\u001b[39mplot(tlist, result\u001b[38;5;241m.\u001b[39mexpect[\u001b[38;5;241m1\u001b[39m], label\u001b[38;5;241m=\u001b[39m\u001b[38;5;124m\"\u001b[39m\u001b[38;5;124mQubit excited population\u001b[39m\u001b[38;5;124m\"\u001b[39m)\n",
      "File \u001b[0;32m/Library/anaconda3/envs/qiskit-metal-rosetta/lib/python3.9/site-packages/qutip/mesolve.py:244\u001b[0m, in \u001b[0;36mmesolve\u001b[0;34m(H, rho0, tlist, c_ops, e_ops, args, options, progress_bar, _safe_mode)\u001b[0m\n\u001b[1;32m    241\u001b[0m     v \u001b[38;5;241m=\u001b[39m rho0\u001b[38;5;241m.\u001b[39mfull()\u001b[38;5;241m.\u001b[39mravel(\u001b[38;5;124m'\u001b[39m\u001b[38;5;124mF\u001b[39m\u001b[38;5;124m'\u001b[39m)\n\u001b[1;32m    242\u001b[0m     func(\u001b[38;5;241m0.\u001b[39m, v, \u001b[38;5;241m*\u001b[39mode_args) \u001b[38;5;241m+\u001b[39m v\n\u001b[0;32m--> 244\u001b[0m res \u001b[38;5;241m=\u001b[39m \u001b[43m_generic_ode_solve\u001b[49m\u001b[43m(\u001b[49m\u001b[43mfunc\u001b[49m\u001b[43m,\u001b[49m\u001b[43m \u001b[49m\u001b[43mode_args\u001b[49m\u001b[43m,\u001b[49m\u001b[43m \u001b[49m\u001b[43mrho0\u001b[49m\u001b[43m,\u001b[49m\u001b[43m \u001b[49m\u001b[43mtlist\u001b[49m\u001b[43m,\u001b[49m\u001b[43m \u001b[49m\u001b[43me_ops\u001b[49m\u001b[43m,\u001b[49m\u001b[43m \u001b[49m\u001b[43moptions\u001b[49m\u001b[43m,\u001b[49m\n\u001b[1;32m    245\u001b[0m \u001b[43m                         \u001b[49m\u001b[43mprogress_bar\u001b[49m\u001b[43m,\u001b[49m\u001b[43m \u001b[49m\u001b[43mdims\u001b[49m\u001b[38;5;241;43m=\u001b[39;49m\u001b[43mrho0\u001b[49m\u001b[38;5;241;43m.\u001b[39;49m\u001b[43mdims\u001b[49m\u001b[43m)\u001b[49m\n\u001b[1;32m    246\u001b[0m res\u001b[38;5;241m.\u001b[39mnum_collapse \u001b[38;5;241m=\u001b[39m \u001b[38;5;28mlen\u001b[39m(c_ops)\n\u001b[1;32m    248\u001b[0m \u001b[38;5;28;01mif\u001b[39;00m e_ops_dict:\n",
      "File \u001b[0;32m/Library/anaconda3/envs/qiskit-metal-rosetta/lib/python3.9/site-packages/qutip/mesolve.py:526\u001b[0m, in \u001b[0;36m_generic_ode_solve\u001b[0;34m(func, ode_args, rho0, tlist, e_ops, opt, progress_bar, dims)\u001b[0m\n\u001b[1;32m    521\u001b[0m         output\u001b[38;5;241m.\u001b[39mexpect[m][t_idx] \u001b[38;5;241m=\u001b[39m expect_rho_vec(e_ops_data[m], r\u001b[38;5;241m.\u001b[39my,\n\u001b[1;32m    522\u001b[0m                                                  e_ops[m]\u001b[38;5;241m.\u001b[39misherm\n\u001b[1;32m    523\u001b[0m                                                  \u001b[38;5;129;01mand\u001b[39;00m rho0\u001b[38;5;241m.\u001b[39misherm)\n\u001b[1;32m    525\u001b[0m     \u001b[38;5;28;01mif\u001b[39;00m t_idx \u001b[38;5;241m<\u001b[39m n_tsteps \u001b[38;5;241m-\u001b[39m \u001b[38;5;241m1\u001b[39m:\n\u001b[0;32m--> 526\u001b[0m         \u001b[43mr\u001b[49m\u001b[38;5;241;43m.\u001b[39;49m\u001b[43mintegrate\u001b[49m\u001b[43m(\u001b[49m\u001b[43mr\u001b[49m\u001b[38;5;241;43m.\u001b[39;49m\u001b[43mt\u001b[49m\u001b[43m \u001b[49m\u001b[38;5;241;43m+\u001b[39;49m\u001b[43m \u001b[49m\u001b[43mdt\u001b[49m\u001b[43m[\u001b[49m\u001b[43mt_idx\u001b[49m\u001b[43m]\u001b[49m\u001b[43m)\u001b[49m\n\u001b[1;32m    528\u001b[0m progress_bar\u001b[38;5;241m.\u001b[39mfinished()\n\u001b[1;32m    530\u001b[0m \u001b[38;5;28;01mif\u001b[39;00m opt\u001b[38;5;241m.\u001b[39mstore_final_state:\n",
      "File \u001b[0;32m/Library/anaconda3/envs/qiskit-metal-rosetta/lib/python3.9/site-packages/scipy/integrate/_ode.py:431\u001b[0m, in \u001b[0;36mode.integrate\u001b[0;34m(self, t, step, relax)\u001b[0m\n\u001b[1;32m    428\u001b[0m     mth \u001b[38;5;241m=\u001b[39m \u001b[38;5;28mself\u001b[39m\u001b[38;5;241m.\u001b[39m_integrator\u001b[38;5;241m.\u001b[39mrun\n\u001b[1;32m    430\u001b[0m \u001b[38;5;28;01mtry\u001b[39;00m:\n\u001b[0;32m--> 431\u001b[0m     \u001b[38;5;28mself\u001b[39m\u001b[38;5;241m.\u001b[39m_y, \u001b[38;5;28mself\u001b[39m\u001b[38;5;241m.\u001b[39mt \u001b[38;5;241m=\u001b[39m \u001b[43mmth\u001b[49m\u001b[43m(\u001b[49m\u001b[38;5;28;43mself\u001b[39;49m\u001b[38;5;241;43m.\u001b[39;49m\u001b[43mf\u001b[49m\u001b[43m,\u001b[49m\u001b[43m \u001b[49m\u001b[38;5;28;43mself\u001b[39;49m\u001b[38;5;241;43m.\u001b[39;49m\u001b[43mjac\u001b[49m\u001b[43m \u001b[49m\u001b[38;5;129;43;01mor\u001b[39;49;00m\u001b[43m \u001b[49m\u001b[43m(\u001b[49m\u001b[38;5;28;43;01mlambda\u001b[39;49;00m\u001b[43m:\u001b[49m\u001b[43m \u001b[49m\u001b[38;5;28;43;01mNone\u001b[39;49;00m\u001b[43m)\u001b[49m\u001b[43m,\u001b[49m\n\u001b[1;32m    432\u001b[0m \u001b[43m                          \u001b[49m\u001b[38;5;28;43mself\u001b[39;49m\u001b[38;5;241;43m.\u001b[39;49m\u001b[43m_y\u001b[49m\u001b[43m,\u001b[49m\u001b[43m \u001b[49m\u001b[38;5;28;43mself\u001b[39;49m\u001b[38;5;241;43m.\u001b[39;49m\u001b[43mt\u001b[49m\u001b[43m,\u001b[49m\u001b[43m \u001b[49m\u001b[43mt\u001b[49m\u001b[43m,\u001b[49m\n\u001b[1;32m    433\u001b[0m \u001b[43m                          \u001b[49m\u001b[38;5;28;43mself\u001b[39;49m\u001b[38;5;241;43m.\u001b[39;49m\u001b[43mf_params\u001b[49m\u001b[43m,\u001b[49m\u001b[43m \u001b[49m\u001b[38;5;28;43mself\u001b[39;49m\u001b[38;5;241;43m.\u001b[39;49m\u001b[43mjac_params\u001b[49m\u001b[43m)\u001b[49m\n\u001b[1;32m    434\u001b[0m \u001b[38;5;28;01mexcept\u001b[39;00m \u001b[38;5;167;01mSystemError\u001b[39;00m \u001b[38;5;28;01mas\u001b[39;00m e:\n\u001b[1;32m    435\u001b[0m     \u001b[38;5;66;03m# f2py issue with tuple returns, see ticket 1187.\u001b[39;00m\n\u001b[1;32m    436\u001b[0m     \u001b[38;5;28;01mraise\u001b[39;00m \u001b[38;5;167;01mValueError\u001b[39;00m(\n\u001b[1;32m    437\u001b[0m         \u001b[38;5;124m'\u001b[39m\u001b[38;5;124mFunction to integrate must not return a tuple.\u001b[39m\u001b[38;5;124m'\u001b[39m\n\u001b[1;32m    438\u001b[0m     ) \u001b[38;5;28;01mfrom\u001b[39;00m\u001b[38;5;250m \u001b[39m\u001b[38;5;21;01me\u001b[39;00m\n",
      "File \u001b[0;32m/Library/anaconda3/envs/qiskit-metal-rosetta/lib/python3.9/site-packages/scipy/integrate/_ode.py:1007\u001b[0m, in \u001b[0;36mvode.run\u001b[0;34m(self, f, jac, y0, t0, t1, f_params, jac_params)\u001b[0m\n\u001b[1;32m   1003\u001b[0m     jac \u001b[38;5;241m=\u001b[39m _vode_banded_jac_wrapper(jac, \u001b[38;5;28mself\u001b[39m\u001b[38;5;241m.\u001b[39mml, jac_params)\n\u001b[1;32m   1005\u001b[0m args \u001b[38;5;241m=\u001b[39m ((f, jac, y0, t0, t1) \u001b[38;5;241m+\u001b[39m \u001b[38;5;28mtuple\u001b[39m(\u001b[38;5;28mself\u001b[39m\u001b[38;5;241m.\u001b[39mcall_args) \u001b[38;5;241m+\u001b[39m\n\u001b[1;32m   1006\u001b[0m         (f_params, jac_params))\n\u001b[0;32m-> 1007\u001b[0m y1, t, istate \u001b[38;5;241m=\u001b[39m \u001b[38;5;28;43mself\u001b[39;49m\u001b[38;5;241;43m.\u001b[39;49m\u001b[43mrunner\u001b[49m\u001b[43m(\u001b[49m\u001b[38;5;241;43m*\u001b[39;49m\u001b[43margs\u001b[49m\u001b[43m)\u001b[49m\n\u001b[1;32m   1008\u001b[0m \u001b[38;5;28mself\u001b[39m\u001b[38;5;241m.\u001b[39mistate \u001b[38;5;241m=\u001b[39m istate\n\u001b[1;32m   1009\u001b[0m \u001b[38;5;28;01mif\u001b[39;00m istate \u001b[38;5;241m<\u001b[39m \u001b[38;5;241m0\u001b[39m:\n",
      "File \u001b[0;32m/Library/anaconda3/envs/qiskit-metal-rosetta/lib/python3.9/site-packages/qutip/cy/cqobjevo.pyx:212\u001b[0m, in \u001b[0;36mqutip.cy.cqobjevo.CQobjEvo.mul_vec\u001b[0;34m()\u001b[0m\n",
      "File \u001b[0;32m/Library/anaconda3/envs/qiskit-metal-rosetta/lib/python3.9/site-packages/qutip/cy/cqobjevo.pyx:679\u001b[0m, in \u001b[0;36mqutip.cy.cqobjevo.CQobjEvoTd._mul_vec\u001b[0;34m()\u001b[0m\n",
      "File \u001b[0;32m/Library/anaconda3/envs/qiskit-metal-rosetta/lib/python3.9/site-packages/qutip/cy/cqobjevo.pyx:293\u001b[0m, in \u001b[0;36mqutip.cy.cqobjevo.CQobjEvo._factor_dyn\u001b[0;34m()\u001b[0m\n",
      "File \u001b[0;32m/Library/anaconda3/envs/qiskit-metal-rosetta/lib/python3.9/site-packages/qutip/cy/cqobjevo.pyx:278\u001b[0m, in \u001b[0;36mqutip.cy.cqobjevo.CQobjEvo._factor\u001b[0;34m()\u001b[0m\n",
      "File \u001b[0;32m/Library/anaconda3/envs/qiskit-metal-rosetta/lib/python3.9/site-packages/qutip/qobjevo.py:1820\u001b[0m, in \u001b[0;36m_UnitedFuncCaller.__call__\u001b[0;34m(self, t, args)\u001b[0m\n\u001b[1;32m   1817\u001b[0m             \u001b[38;5;28;01melse\u001b[39;00m:\n\u001b[1;32m   1818\u001b[0m                 \u001b[38;5;28mself\u001b[39m\u001b[38;5;241m.\u001b[39margs[name] \u001b[38;5;241m=\u001b[39m op\u001b[38;5;241m.\u001b[39mexpect(t, state)\n\u001b[0;32m-> 1820\u001b[0m \u001b[38;5;28;01mdef\u001b[39;00m\u001b[38;5;250m \u001b[39m\u001b[38;5;21m__call__\u001b[39m(\u001b[38;5;28mself\u001b[39m, t, args\u001b[38;5;241m=\u001b[39m{}):\n\u001b[1;32m   1821\u001b[0m     \u001b[38;5;28;01mif\u001b[39;00m args:\n\u001b[1;32m   1822\u001b[0m         now_args \u001b[38;5;241m=\u001b[39m \u001b[38;5;28mself\u001b[39m\u001b[38;5;241m.\u001b[39margs\u001b[38;5;241m.\u001b[39mcopy()\n",
      "\u001b[0;31mKeyboardInterrupt\u001b[0m: "
     ]
    }
   ],
   "source": [
    "T1 = 30  # relaxation time in ns\n",
    "T2 = 40  # dephasing time in ns\n",
    "\n",
    "gamma1 = 1 / T1  # relaxation rate\n",
    "gamma_phi = 1 / T2 - 0.5 / T1  # pure dephasing rate\n",
    "\n",
    "from qutip import destroy\n",
    "\n",
    "sm_qubit = destroy(dim_qubit)  # lowering operator in transmon space\n",
    "sm = tensor(sm_qubit, qeye(n_res))\n",
    "\n",
    "proj_0 = basis(dim_qubit, 0) * basis(dim_qubit, 0).dag()\n",
    "proj_1 = basis(dim_qubit, 1) * basis(dim_qubit, 1).dag()\n",
    "sz_qutrit = proj_1 - proj_0\n",
    "sz = tensor(sz_qutrit, qeye(n_res))\n",
    "\n",
    "c_ops = [np.sqrt(gamma1) * sm]\n",
    "\n",
    "if gamma_phi > 0:\n",
    "    c_ops.append(np.sqrt(gamma_phi) * sz)\n",
    "\n",
    "result = mesolve(H_total, psi0, tlist, c_ops, [\n",
    "    tensor(qeye(dim_qubit), a.dag() * a),  # resonator photon number\n",
    "    tensor(basis(dim_qubit,1) * basis(dim_qubit,1).dag(), qeye(n_res))  # qubit excited state population\n",
    "])\n",
    "\n",
    "plt.plot(tlist, result.expect[0], label=\"Resonator photon number\")\n",
    "plt.plot(tlist, result.expect[1], label=\"Qubit excited population\")\n",
    "plt.xlabel(\"Time (ns)\")\n",
    "plt.legend()\n",
    "plt.title(\"Decay with T₁ and T₂\")\n",
    "plt.show()"
   ]
  },
  {
   "cell_type": "code",
   "execution_count": null,
   "metadata": {},
   "outputs": [],
   "source": [
    "omega_q = f01_a  \n",
    "omega_r = 7.0  \n",
    "\n",
    "Delta = omega_q - omega_r\n",
    "print(Delta)\n",
    "chi = g**2 / Delta  \n",
    "\n",
    "print(f\"Dispersive shift = {chi:.4f} GHz\")"
   ]
  },
  {
   "cell_type": "code",
   "execution_count": null,
   "metadata": {},
   "outputs": [],
   "source": [
    "drive_freq_0 = omega_r - chi\n",
    "drive_freq_1 = omega_r + chi\n",
    "\n",
    "def drive_pulse_0(t, args):\n",
    "    t0 = drive_duration / 2\n",
    "    sigma = drive_duration / 6\n",
    "    return drive_amp * np.exp(-(t - t0)**2 / (2 * sigma**2)) * np.cos(2 * np.pi * drive_freq_0 * t)\n",
    "\n",
    "def drive_pulse_1(t, args):\n",
    "    t0 = drive_duration / 2\n",
    "    sigma = drive_duration / 6\n",
    "    return drive_amp * np.exp(-(t - t0)**2 / (2 * sigma**2)) * np.cos(2 * np.pi * drive_freq_1 * t)\n",
    "\n",
    "H_drive_0 = [tensor(qeye(dim_qubit), a + a.dag()), drive_pulse_0]\n",
    "H_drive_1 = [tensor(qeye(dim_qubit), a + a.dag()), drive_pulse_1]\n",
    "\n",
    "H_total_0 = [H_full, H_drive_0]\n",
    "H_total_1 = [H_full, H_drive_1]\n",
    "\n",
    "result_0 = mesolve(H_total_0, psi0_0, tlist, c_ops, [tensor(qeye(dim_qubit), a.dag() * a)])\n",
    "result_1 = mesolve(H_total_1, psi0_1, tlist, c_ops, [tensor(qeye(dim_qubit), a.dag() * a)])\n",
    "\n",
    "plt.plot(tlist, result_0.expect[0], label=\"Qubit in |0⟩ (drive at ω_r - χ)\")\n",
    "plt.plot(tlist, result_1.expect[0], label=\"Qubit in |1⟩ (drive at ω_r + χ)\")\n",
    "plt.xlabel(\"Time (ns)\")\n",
    "plt.ylabel(\"Resonator photon number\")\n",
    "plt.title(\"Resonator response for qubit states during readout\")\n",
    "plt.legend()\n",
    "plt.show()"
   ]
  }
 ],
 "metadata": {
  "kernelspec": {
   "display_name": "qiskit-metal-rosetta",
   "language": "python",
   "name": "python3"
  },
  "language_info": {
   "codemirror_mode": {
    "name": "ipython",
    "version": 3
   },
   "file_extension": ".py",
   "mimetype": "text/x-python",
   "name": "python",
   "nbconvert_exporter": "python",
   "pygments_lexer": "ipython3",
   "version": "3.9.23"
  }
 },
 "nbformat": 4,
 "nbformat_minor": 2
}
