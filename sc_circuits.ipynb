{
 "cells": [
  {
   "cell_type": "code",
   "execution_count": 3,
   "metadata": {},
   "outputs": [
    {
     "name": "stderr",
     "output_type": "stream",
     "text": [
      "11:11PM 51s CRITICAL [_qt_message_handler]: line: 0, func: None(), file: None  WARNING: Populating font family aliases took 208 ms. Replace uses of missing font family \"Courier\" with one that exists to avoid this cost. \n",
      "\n",
      "11:11PM 51s CRITICAL [_qt_message_handler]: line: 0, func: None(), file: None  CRITICAL: <QNSWindow: 0x7fba00a75970; contentView=<QNSView: 0x7fba00f44f70; QCocoaWindow(0x7fba00a6afe0, window=QWidgetWindow(0x7fba00ea2540, name=\"MainWindowPlotWindow\"))>> has active key-value observers (KVO)! These will stop working now that the window is recreated, and will result in exceptions when the observers are removed. Break in QCocoaWindow::recreateWindowIfNeeded to debug.\n",
      "\n",
      "11:11PM 51s CRITICAL [_qt_message_handler]: line: 0, func: None(), file: None  CRITICAL: <QNSWindow: 0x7fba00a75970; contentView=<QNSView: 0x7fba00f51000; QCocoaWindow(0x7fba00e29ac0, window=QWidgetWindow(0x7fba00f51350, name=\"ElementsWindowWindow\"))>> has active key-value observers (KVO)! These will stop working now that the window is recreated, and will result in exceptions when the observers are removed. Break in QCocoaWindow::recreateWindowIfNeeded to debug.\n",
      "\n",
      "11:11PM 51s CRITICAL [_qt_message_handler]: line: 0, func: None(), file: None  CRITICAL: <QNSWindow: 0x7fba00f43da0; contentView=<QNSView: 0x7fb9f7f43970; QCocoaWindow(0x7fb9f7f43860, window=QWidgetWindow(0x7fb9f7f435e0, name=\"MainWindowWindow\"))>> has active key-value observers (KVO)! These will stop working now that the window is recreated, and will result in exceptions when the observers are removed. Break in QCocoaWindow::recreateWindowIfNeeded to debug.\n",
      "\n",
      "11:11PM 51s CRITICAL [_qt_message_handler]: line: 0, func: None(), file: None  CRITICAL: <QNSWindow: 0x7fba01873730; contentView=<QNSView: 0x7fba01873010; QCocoaWindow(0x7fba01872f00, window=QWidgetWindow(0x7fba018729a0, name=\"NetListWindowWindow\"))>> has active key-value observers (KVO)! These will stop working now that the window is recreated, and will result in exceptions when the observers are removed. Break in QCocoaWindow::recreateWindowIfNeeded to debug.\n",
      "\n"
     ]
    }
   ],
   "source": [
    "from qiskit_metal import designs\n",
    "design = designs.DesignPlanar()\n",
    "\n",
    "from qiskit_metal import MetalGUI\n",
    "gui = MetalGUI(design)\n",
    "gui.show()\n",
    "\n",
    "from qiskit_metal.qlibrary.qubits.transmon_pocket import TransmonPocket\n",
    "\n",
    "design.overwrite_enabled = True\n",
    "\n",
    "options = dict(\n",
    "    pad_width = '425 um',\n",
    "    pocket_height = '650um',\n",
    "    connection_pads=dict(\n",
    "        a = dict(loc_W=+1,loc_H=+1),\n",
    "        b = dict(loc_W=-1,loc_H=+1, pad_height='30um'),\n",
    "        c = dict(loc_W=+1,loc_H=-1, pad_width='200um'),\n",
    "        d = dict(loc_W=-1,loc_H=-1, pad_height='50um')\n",
    "    )\n",
    ")\n",
    "\n",
    "q1 = TransmonPocket(design, 'Q1', options = dict(\n",
    "    pos_x='+2.55mm', pos_y='+0.0mm', **options))\n",
    "q2 = TransmonPocket(design, 'Q2', options = dict(\n",
    "    pos_x='+0.0mm', pos_y='-0.9mm', orientation = '90', **options))\n",
    "q3 = TransmonPocket(design, 'Q3', options = dict(\n",
    "    pos_x='-2.55mm', pos_y='+0.0mm', **options))\n",
    "q4 = TransmonPocket(design, 'Q4', options = dict(\n",
    "    pos_x='+0.0mm', pos_y='+0.9mm', orientation = '90', **options))\n",
    "\n",
    "gui.rebuild()\n",
    "gui.autoscale()"
   ]
  },
  {
   "cell_type": "code",
   "execution_count": 4,
   "metadata": {},
   "outputs": [
    {
     "data": {
      "text/plain": [
       "{'chip': 'main',\n",
       " 'layer': '1',\n",
       " 'pin_inputs': {'start_pin': {'component': '', 'pin': ''},\n",
       "  'end_pin': {'component': '', 'pin': ''}},\n",
       " 'fillet': '0',\n",
       " 'lead': {'start_straight': '0mm',\n",
       "  'end_straight': '0mm',\n",
       "  'start_jogged_extension': '',\n",
       "  'end_jogged_extension': ''},\n",
       " 'total_length': '7mm',\n",
       " 'trace_width': 'cpw_width',\n",
       " 'meander': {'spacing': '200um', 'asymmetry': '0um'},\n",
       " 'snap': 'true',\n",
       " 'prevent_short_edges': 'true',\n",
       " 'hfss_wire_bonds': False,\n",
       " 'q3d_wire_bonds': False,\n",
       " 'aedt_q3d_wire_bonds': False,\n",
       " 'aedt_hfss_wire_bonds': False}"
      ]
     },
     "execution_count": 4,
     "metadata": {},
     "output_type": "execute_result"
    }
   ],
   "source": [
    "from qiskit_metal.qlibrary.tlines.meandered import RouteMeander\n",
    "RouteMeander.get_template_options(design)\n",
    "\n"
   ]
  },
  {
   "cell_type": "code",
   "execution_count": 5,
   "metadata": {},
   "outputs": [
    {
     "data": {
      "text/plain": [
       "{'pin_inputs': {'start_pin': {'component': '', 'pin': ''},\n",
       "  'end_pin': {'component': '', 'pin': ''}},\n",
       " 'fillet': '0',\n",
       " 'lead': {'start_straight': '0mm',\n",
       "  'end_straight': '0mm',\n",
       "  'start_jogged_extension': '',\n",
       "  'end_jogged_extension': ''},\n",
       " 'total_length': '7mm',\n",
       " 'chip': 'main',\n",
       " 'layer': '1',\n",
       " 'trace_width': 'cpw_width',\n",
       " 'meander': {'spacing': '200um', 'asymmetry': '0um'},\n",
       " 'snap': 'true',\n",
       " 'prevent_short_edges': 'true',\n",
       " 'hfss_wire_bonds': False,\n",
       " 'q3d_wire_bonds': False}"
      ]
     },
     "execution_count": 5,
     "metadata": {},
     "output_type": "execute_result"
    }
   ],
   "source": [
    "{'pin_inputs': {'start_pin': {'component': '', 'pin': ''},\n",
    "  'end_pin': {'component': '', 'pin': ''}},\n",
    " 'fillet': '0',\n",
    " 'lead': {'start_straight': '0mm',\n",
    "  'end_straight': '0mm',\n",
    "  'start_jogged_extension': '',\n",
    "  'end_jogged_extension': ''},\n",
    " 'total_length': '7mm',\n",
    " 'chip': 'main',\n",
    " 'layer': '1',\n",
    " 'trace_width': 'cpw_width',\n",
    " 'meander': {'spacing': '200um', 'asymmetry': '0um'},\n",
    " 'snap': 'true',\n",
    " 'prevent_short_edges': 'true',\n",
    " 'hfss_wire_bonds': False,\n",
    " 'q3d_wire_bonds': False}"
   ]
  },
  {
   "cell_type": "code",
   "execution_count": 6,
   "metadata": {},
   "outputs": [],
   "source": [
    "options = dict(\n",
    "    meander=dict(\n",
    "        lead_start='0.1mm',\n",
    "        lead_end='0.1mm',\n",
    "        asymmetry='0 um')\n",
    ")\n",
    "def connect(component_name: str, component1: str, pin1: str, component2: str, pin2: str,\n",
    "            length: str,\n",
    "            asymmetry='0 um', flip=False):\n",
    "    myoptions = dict(\n",
    "        pin_inputs=dict(\n",
    "            start_pin=dict(\n",
    "                component=component1,\n",
    "                pin=pin1),\n",
    "            end_pin=dict(\n",
    "                component=component2,\n",
    "                pin=pin2)),\n",
    "        lead=dict(\n",
    "            start_straight='0.13mm'\n",
    "        ),\n",
    "        total_length=length,\n",
    "        fillet='90um'\n",
    "    )\n",
    "    myoptions.update(options)  # options includes 'meander'\n",
    "\n",
    "    myoptions['meander']['asymmetry'] = asymmetry\n",
    "    myoptions['meander']['lead_direction_inverted'] = 'true' if flip else 'false'\n",
    "    return RouteMeander(design, component_name, myoptions)\n",
    "\n",
    "asym = 150\n",
    "cpw1 = connect('cpw1', 'Q1', 'd', 'Q2', 'c', '6.0 mm', f'+{asym}um')\n",
    "cpw2 = connect('cpw2', 'Q3', 'c', 'Q2', 'a', '6.1 mm', f'-{asym}um', flip=True)\n",
    "cpw3 = connect('cpw3', 'Q3', 'a', 'Q4', 'b', '6.0 mm', f'+{asym}um')\n",
    "cpw4 = connect('cpw4', 'Q1', 'b', 'Q4', 'd', '6.1 mm', f'-{asym}um', flip=True)\n",
    "\n",
    "gui.rebuild()\n",
    "gui.autoscale()\n",
    "\n"
   ]
  },
  {
   "cell_type": "code",
   "execution_count": 7,
   "metadata": {},
   "outputs": [],
   "source": [
    "gui.toggle_docks(True)\n",
    "gui.highlight_components(['Q1','Q2','Q3','Q4','cpw1','cpw2','cpw3','cpw4'])\n",
    "\n"
   ]
  }
 ],
 "metadata": {
  "kernelspec": {
   "display_name": "qiskit-metal-rosetta",
   "language": "python",
   "name": "python3"
  },
  "language_info": {
   "codemirror_mode": {
    "name": "ipython",
    "version": 3
   },
   "file_extension": ".py",
   "mimetype": "text/x-python",
   "name": "python",
   "nbconvert_exporter": "python",
   "pygments_lexer": "ipython3",
   "version": "3.9.23"
  }
 },
 "nbformat": 4,
 "nbformat_minor": 2
}
