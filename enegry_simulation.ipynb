{
 "cells": [
  {
   "cell_type": "code",
   "execution_count": 1,
   "id": "c05c13e1",
   "metadata": {},
   "outputs": [
    {
     "name": "stdout",
     "output_type": "stream",
     "text": [
      "Qubit frequency ≈ 0.97 GHz\n"
     ]
    },
    {
     "ename": "NameError",
     "evalue": "name 'n_res' is not defined",
     "output_type": "error",
     "traceback": [
      "\u001b[0;31m---------------------------------------------------------------------------\u001b[0m",
      "\u001b[0;31mNameError\u001b[0m                                 Traceback (most recent call last)",
      "Cell \u001b[0;32mIn[1], line 17\u001b[0m\n\u001b[1;32m     14\u001b[0m \u001b[38;5;28mprint\u001b[39m(\u001b[38;5;124mf\u001b[39m\u001b[38;5;124m\"\u001b[39m\u001b[38;5;124mQubit frequency ≈ \u001b[39m\u001b[38;5;132;01m{\u001b[39;00mwq\u001b[38;5;250m \u001b[39m\u001b[38;5;241m/\u001b[39m\u001b[38;5;250m \u001b[39m(\u001b[38;5;241m2\u001b[39m\u001b[38;5;241m*\u001b[39mnp\u001b[38;5;241m.\u001b[39mpi)\u001b[38;5;132;01m:\u001b[39;00m\u001b[38;5;124m.2f\u001b[39m\u001b[38;5;132;01m}\u001b[39;00m\u001b[38;5;124m GHz\u001b[39m\u001b[38;5;124m\"\u001b[39m)\n\u001b[1;32m     16\u001b[0m \u001b[38;5;66;03m# Operators \u001b[39;00m\n\u001b[0;32m---> 17\u001b[0m a \u001b[38;5;241m=\u001b[39m tensor(destroy(\u001b[43mn_res\u001b[49m), qeye(n_qubit))     \u001b[38;5;66;03m# resonator\u001b[39;00m\n\u001b[1;32m     18\u001b[0m b \u001b[38;5;241m=\u001b[39m tensor(qeye(n_res), destroy(n_qubit))     \u001b[38;5;66;03m# qubit\u001b[39;00m\n\u001b[1;32m     20\u001b[0m \u001b[38;5;66;03m# Hamiltonian \u001b[39;00m\n",
      "\u001b[0;31mNameError\u001b[0m: name 'n_res' is not defined"
     ]
    }
   ],
   "source": [
    "import numpy as np\n",
    "import matplotlib.pyplot as plt\n",
    "from qutip import *\n",
    "\n",
    "Ec = 0.25    # Charging energy (GHz)\n",
    "Ej = 20.0    # Josephson energy (GHz)\n",
    "wq = 6.12    # Qubit frequency (GHz) — approx from Ec & Ej\n",
    "wr = 6.00    # Resonator frequency (GHz)\n",
    "g  = 0.05    # Coupling strength (GHz)\n",
    "n_c = 15     # Resonator photon cutoff\n",
    "\n",
    "\n",
    "wq = np.sqrt(8 * Ej * Ec) - Ec  # Transmon transition freq\n",
    "print(f\"Qubit frequency ≈ {wq / (2*np.pi):.2f} GHz\")\n",
    "\n",
    "# Operators \n",
    "a = tensor(destroy(n_res), qeye(n_qubit))     # resonator\n",
    "b = tensor(qeye(n_res), destroy(n_qubit))     # qubit\n",
    "\n",
    "# Hamiltonian \n",
    "H = wr * a.dag() * a + wq * b.dag() * b - (Ec / 2) * b.dag()**2 * b**2 + g * (a.dag() * b + a * b.dag())\n",
    "\n",
    "# Initial state\n",
    "psi0 = tensor(basis(n_res, 1), basis(n_qubit, 0))  # one photon in resonator\n",
    "\n",
    "# Time evolution \n",
    "tlist = np.linspace(0, 1e2, 1000)\n",
    "result = mesolve(H, psi0, tlist, [], [a.dag()*a, b.dag()*b])\n",
    "\n",
    "# Plot \n",
    "plt.figure(figsize=(8, 4))\n",
    "plt.plot(tlist, result.expect[0], label=\"⟨a†a⟩ (resonator)\")\n",
    "plt.plot(tlist, result.expect[1], label=\"⟨b†b⟩ (qubit)\")\n",
    "plt.xlabel(\"Time (ns)\")\n",
    "plt.ylabel(\"Occupation\")\n",
    "plt.title(\"Transmon–Resonator Dynamics\")\n",
    "plt.legend()\n",
    "plt.grid()\n",
    "plt.tight_layout()\n",
    "plt.show()\n"
   ]
  }
 ],
 "metadata": {
  "kernelspec": {
   "display_name": "qiskit-metal-rosetta",
   "language": "python",
   "name": "python3"
  },
  "language_info": {
   "codemirror_mode": {
    "name": "ipython",
    "version": 3
   },
   "file_extension": ".py",
   "mimetype": "text/x-python",
   "name": "python",
   "nbconvert_exporter": "python",
   "pygments_lexer": "ipython3",
   "version": "3.9.23"
  }
 },
 "nbformat": 4,
 "nbformat_minor": 5
}
