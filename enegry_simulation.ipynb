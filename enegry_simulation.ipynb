{
 "cells": [
  {
   "cell_type": "code",
   "execution_count": null,
   "id": "c05c13e1",
   "metadata": {},
   "outputs": [],
   "source": [
    "import numpy as np\n",
    "import matplotlib.pyplot as plt\n",
    "from qutip import *\n",
    "\n",
    "Ec = 0.25    # Charging energy (GHz)\n",
    "Ej = 20.0    # Josephson energy (GHz)\n",
    "wq = 6.12    # Qubit frequency (GHz) — approx from Ec & Ej\n",
    "wr = 6.00    # Resonator frequency (GHz)\n",
    "g  = 0.05    # Coupling strength (GHz)\n",
    "n_c = 15     # Resonator photon cutoff\n",
    "\n",
    "\n",
    "wq = np.sqrt(8 * Ej * Ec) - Ec  # Transmon transition freq\n",
    "print(f\"Qubit frequency ≈ {wq / (2*np.pi):.2f} GHz\")\n",
    "\n",
    "# Operators \n",
    "a = tensor(destroy(n_res), qeye(n_qubit))     # resonator\n",
    "b = tensor(qeye(n_res), destroy(n_qubit))     # qubit\n",
    "\n",
    "# Hamiltonian \n",
    "H = wr * a.dag() * a + wq * b.dag() * b - (Ec / 2) * b.dag()**2 * b**2 + g * (a.dag() * b + a * b.dag())\n",
    "\n",
    "# Initial state\n",
    "psi0 = tensor(basis(n_res, 1), basis(n_qubit, 0))  # one photon in resonator\n",
    "\n",
    "# Time evolution \n",
    "tlist = np.linspace(0, 1e2, 1000)\n",
    "result = mesolve(H, psi0, tlist, [], [a.dag()*a, b.dag()*b])\n",
    "\n",
    "# Plot \n",
    "plt.figure(figsize=(8, 4))\n",
    "plt.plot(tlist, result.expect[0], label=\"⟨a†a⟩ (resonator)\")\n",
    "plt.plot(tlist, result.expect[1], label=\"⟨b†b⟩ (qubit)\")\n",
    "plt.xlabel(\"Time (ns)\")\n",
    "plt.ylabel(\"Occupation\")\n",
    "plt.title(\"Transmon–Resonator Dynamics\")\n",
    "plt.legend()\n",
    "plt.grid()\n",
    "plt.tight_layout()\n",
    "plt.show()\n"
   ]
  }
 ],
 "metadata": {
  "language_info": {
   "name": "python"
  }
 },
 "nbformat": 4,
 "nbformat_minor": 5
}
