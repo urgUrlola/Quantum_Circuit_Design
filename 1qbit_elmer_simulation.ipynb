{
 "cells": [
  {
   "cell_type": "code",
   "execution_count": null,
   "id": "28f8c32e-5341-49d6-b63f-0e16419b162c",
   "metadata": {},
   "outputs": [],
   "source": [
    "%load_ext autoreload\n",
    "%autoreload 2\n",
    "\n",
    "from qiskit_metal import MetalGUI, designs\n",
    "from qiskit_metal.qlibrary.qubits.transmon_pocket_6 import TransmonPocket6\n",
    "\n",
    "from qiskit_metal.renderers.renderer_gmsh.gmsh_renderer import QGmshRenderer\n",
    "\n",
    "from qiskit_metal.renderers.renderer_elmer.elmer_renderer import QElmerRenderer\n",
    "from qiskit_metal.renderers.renderer_elmer.elmer_renderer import load_capacitance_matrix_from_file"
   ]
  },
  {
   "cell_type": "code",
   "execution_count": 2,
   "id": "31a7b793-64a5-44c6-9176-718f9b7c1c66",
   "metadata": {},
   "outputs": [],
   "source": [
    "\n",
    "design = designs.MultiPlanar({}, True)\n",
    "\n",
    "\n",
    "gui = MetalGUI(design)"
   ]
  },
  {
   "cell_type": "code",
   "execution_count": 3,
   "id": "6fe517d6-d32f-417c-a8fa-33061c2e54c6",
   "metadata": {},
   "outputs": [],
   "source": [
    "\n",
    "conn_pads = dict(\n",
    "    connection_pads = dict(\n",
    "        readout = dict(loc_W=0, loc_H=-1),\n",
    "        coupler1 = dict(loc_W=-1, loc_H=1),\n",
    "        coupler2 = dict(loc_W=1, loc_H=1)\n",
    "    )\n",
    ")\n",
    "\n",
    "\n",
    "q1 = TransmonPocket6(design, \"Q1\", options=dict(**conn_pads))\n",
    "\n",
    "\n",
    "gui.rebuild()\n",
    "gui.autoscale()"
   ]
  },
  {
   "cell_type": "code",
   "execution_count": 4,
   "id": "713202e1-dedc-469d-8dc3-9fe99496e42e",
   "metadata": {},
   "outputs": [],
   "source": [
    "\n",
    "gmsh_renderer = QGmshRenderer(design)\n",
    "\n",
    "\n",
    "gmsh_renderer.render_design(open_pins=[(\"Q1\", \"coupler1\"), (\"Q1\", \"coupler2\"), (\"Q1\", \"readout\")],\n",
    "                            mesh_geoms=False)"
   ]
  },
  {
   "cell_type": "code",
   "execution_count": 5,
   "id": "eef5a352-24f3-4257-968f-be197eeba30d",
   "metadata": {},
   "outputs": [],
   "source": [
    "\n",
    "gmsh_renderer.launch_gui()"
   ]
  },
  {
   "cell_type": "code",
   "execution_count": 6,
   "id": "545d393c-8d57-4914-9dbc-92e8a0f32b0e",
   "metadata": {
    "scrolled": true,
    "tags": []
   },
   "outputs": [],
   "source": [
    "\n",
    "gmsh_renderer.add_mesh(dim=3, intelli_mesh=False)\n",
    "gmsh_renderer.launch_gui()"
   ]
  },
  {
   "cell_type": "code",
   "execution_count": null,
   "id": "b851f19f-e8d0-479e-b0ae-056fa8a47e9f",
   "metadata": {
    "scrolled": true,
    "tags": []
   },
   "outputs": [],
   "source": [
    "\n",
    "gmsh_renderer.options.mesh.min_size = '5um'\n",
    "gmsh_renderer.options.mesh.max_size = '20um'\n",
    "\n",
    "gmsh_renderer.render_design(open_pins=[(\"Q1\", \"coupler1\"), (\"Q1\", \"coupler2\"), (\"Q1\", \"readout\")],\n",
    "                            mesh_geoms=False)\n",
    "\n",
    "gmsh_renderer.add_mesh(intelli_mesh=False)\n",
    "gmsh_renderer.launch_gui()"
   ]
  },
  {
   "cell_type": "code",
   "execution_count": null,
   "id": "4b02fbf9-2717-45b8-9293-3bd1121862f9",
   "metadata": {
    "scrolled": true,
    "tags": []
   },
   "outputs": [],
   "source": [
    "\n",
    "gmsh_renderer.options.mesh.min_size = '5um'\n",
    "gmsh_renderer.options.mesh.max_size = '50um'\n",
    "\n",
    "gmsh_renderer.render_design(open_pins=[(\"Q1\", \"coupler1\"), (\"Q1\", \"coupler2\"), (\"Q1\", \"readout\")],\n",
    "                            mesh_geoms=True)\n",
    "gmsh_renderer.launch_gui()"
   ]
  },
  {
   "cell_type": "code",
   "execution_count": 7,
   "id": "af6556de-1546-47b5-8f26-9227af19ff86",
   "metadata": {},
   "outputs": [],
   "source": [
    "\n",
    "gmsh_renderer.export_mesh(\"test.msh\")"
   ]
  },
  {
   "cell_type": "code",
   "execution_count": 8,
   "id": "3672846f-b035-4eab-80a9-3c199eb4fd7c",
   "metadata": {},
   "outputs": [
    {
     "data": {
      "text/plain": [
       "True"
      ]
     },
     "execution_count": 8,
     "metadata": {},
     "output_type": "execute_result"
    }
   ],
   "source": [
    "\n",
    "gmsh_renderer.close()"
   ]
  },
  {
   "cell_type": "code",
   "execution_count": 9,
   "id": "8c2f7a6a-f6ed-4892-96c3-a62f866ef37c",
   "metadata": {},
   "outputs": [],
   "source": [
    "\n",
    "elmer_renderer = QElmerRenderer(design)\n",
    "\n",
    "elmer_renderer.gmsh.options.mesh.min_size = \"5um\"\n",
    "elmer_renderer.gmsh.options.mesh.max_size = \"50um\""
   ]
  },
  {
   "cell_type": "code",
   "execution_count": 10,
   "id": "e7c297c2-be7e-495b-b98a-4062cab91be0",
   "metadata": {
    "scrolled": true,
    "tags": []
   },
   "outputs": [],
   "source": [
    "\n",
    "elmer_renderer.render_design(open_pins=[(\"Q1\", \"coupler1\"), (\"Q1\", \"coupler2\"), (\"Q1\", \"readout\")],\n",
    "                             skip_junctions=True)"
   ]
  },
  {
   "cell_type": "code",
   "execution_count": 11,
   "id": "43145408-a90f-4e75-921d-ca8eafd5ea7e",
   "metadata": {},
   "outputs": [],
   "source": [
    "\n",
    "elmer_renderer.launch_gmsh_gui()"
   ]
  },
  {
   "cell_type": "code",
   "execution_count": null,
   "id": "ab7e7c7a-9207-4943-bf0f-1d183a8d007c",
   "metadata": {},
   "outputs": [],
   "source": [
    "elmer_renderer.export_mesh()"
   ]
  },
  {
   "cell_type": "code",
   "execution_count": 13,
   "id": "5cc8b22f-f281-45c3-a53a-f2a7c9a29fed",
   "metadata": {},
   "outputs": [],
   "source": [
    "\n",
    "elmer_renderer.add_solution_setup('capacitance')"
   ]
  },
  {
   "cell_type": "code",
   "execution_count": 14,
   "id": "020dc57e-d668-4d7b-b8fc-62fcceb6468d",
   "metadata": {},
   "outputs": [
    {
     "name": "stderr",
     "output_type": "stream",
     "text": [
      "08:04PM 44s INFO [run]: Running ElmerGrid on input mesh from Gmsh...\n",
      "08:04PM 45s INFO [run]: Running ElmerSolver for solver type: 'capacitance'\n"
     ]
    }
   ],
   "source": [
    "\n",
    "elmer_renderer.run('capacitance')"
   ]
  },
  {
   "cell_type": "code",
   "execution_count": 15,
   "id": "b250b918-1cd7-429d-b015-92b114bf2594",
   "metadata": {},
   "outputs": [
    {
     "data": {
      "text/html": [
       "<div>\n",
       "<style scoped>\n",
       "    .dataframe tbody tr th:only-of-type {\n",
       "        vertical-align: middle;\n",
       "    }\n",
       "\n",
       "    .dataframe tbody tr th {\n",
       "        vertical-align: top;\n",
       "    }\n",
       "\n",
       "    .dataframe thead th {\n",
       "        text-align: right;\n",
       "    }\n",
       "</style>\n",
       "<table border=\"1\" class=\"dataframe\">\n",
       "  <thead>\n",
       "    <tr style=\"text-align: right;\">\n",
       "      <th></th>\n",
       "      <th>Q1_readout_connector_pad</th>\n",
       "      <th>Q1_coupler1_connector_pad</th>\n",
       "      <th>Q1_coupler2_connector_pad</th>\n",
       "      <th>Q1_pad_top</th>\n",
       "      <th>Q1_pad_bot</th>\n",
       "      <th>ground_plane</th>\n",
       "    </tr>\n",
       "  </thead>\n",
       "  <tbody>\n",
       "    <tr>\n",
       "      <th>Q1_readout_connector_pad</th>\n",
       "      <td>66.744094</td>\n",
       "      <td>-0.217009</td>\n",
       "      <td>-0.216818</td>\n",
       "      <td>-1.821051</td>\n",
       "      <td>-18.588840</td>\n",
       "      <td>-45.900376</td>\n",
       "    </tr>\n",
       "    <tr>\n",
       "      <th>Q1_coupler1_connector_pad</th>\n",
       "      <td>-0.217009</td>\n",
       "      <td>61.086923</td>\n",
       "      <td>-0.300955</td>\n",
       "      <td>-16.198516</td>\n",
       "      <td>-1.653818</td>\n",
       "      <td>-42.716625</td>\n",
       "    </tr>\n",
       "    <tr>\n",
       "      <th>Q1_coupler2_connector_pad</th>\n",
       "      <td>-0.216818</td>\n",
       "      <td>-0.300955</td>\n",
       "      <td>61.505852</td>\n",
       "      <td>-16.227055</td>\n",
       "      <td>-1.646792</td>\n",
       "      <td>-43.114232</td>\n",
       "    </tr>\n",
       "    <tr>\n",
       "      <th>Q1_pad_top</th>\n",
       "      <td>-1.821051</td>\n",
       "      <td>-16.198516</td>\n",
       "      <td>-16.227055</td>\n",
       "      <td>110.765851</td>\n",
       "      <td>-37.257608</td>\n",
       "      <td>-39.261620</td>\n",
       "    </tr>\n",
       "    <tr>\n",
       "      <th>Q1_pad_bot</th>\n",
       "      <td>-18.588840</td>\n",
       "      <td>-1.653818</td>\n",
       "      <td>-1.646792</td>\n",
       "      <td>-37.257608</td>\n",
       "      <td>104.211499</td>\n",
       "      <td>-45.064442</td>\n",
       "    </tr>\n",
       "    <tr>\n",
       "      <th>ground_plane</th>\n",
       "      <td>-45.900376</td>\n",
       "      <td>-42.716625</td>\n",
       "      <td>-43.114232</td>\n",
       "      <td>-39.261620</td>\n",
       "      <td>-45.064442</td>\n",
       "      <td>300.000000</td>\n",
       "    </tr>\n",
       "  </tbody>\n",
       "</table>\n",
       "</div>"
      ],
      "text/plain": [
       "                           Q1_readout_connector_pad  \\\n",
       "Q1_readout_connector_pad                  66.744094   \n",
       "Q1_coupler1_connector_pad                 -0.217009   \n",
       "Q1_coupler2_connector_pad                 -0.216818   \n",
       "Q1_pad_top                                -1.821051   \n",
       "Q1_pad_bot                               -18.588840   \n",
       "ground_plane                             -45.900376   \n",
       "\n",
       "                           Q1_coupler1_connector_pad  \\\n",
       "Q1_readout_connector_pad                   -0.217009   \n",
       "Q1_coupler1_connector_pad                  61.086923   \n",
       "Q1_coupler2_connector_pad                  -0.300955   \n",
       "Q1_pad_top                                -16.198516   \n",
       "Q1_pad_bot                                 -1.653818   \n",
       "ground_plane                              -42.716625   \n",
       "\n",
       "                           Q1_coupler2_connector_pad  Q1_pad_top  Q1_pad_bot  \\\n",
       "Q1_readout_connector_pad                   -0.216818   -1.821051  -18.588840   \n",
       "Q1_coupler1_connector_pad                  -0.300955  -16.198516   -1.653818   \n",
       "Q1_coupler2_connector_pad                  61.505852  -16.227055   -1.646792   \n",
       "Q1_pad_top                                -16.227055  110.765851  -37.257608   \n",
       "Q1_pad_bot                                 -1.646792  -37.257608  104.211499   \n",
       "ground_plane                              -43.114232  -39.261620  -45.064442   \n",
       "\n",
       "                           ground_plane  \n",
       "Q1_readout_connector_pad     -45.900376  \n",
       "Q1_coupler1_connector_pad    -42.716625  \n",
       "Q1_coupler2_connector_pad    -43.114232  \n",
       "Q1_pad_top                   -39.261620  \n",
       "Q1_pad_bot                   -45.064442  \n",
       "ground_plane                 300.000000  "
      ]
     },
     "execution_count": 15,
     "metadata": {},
     "output_type": "execute_result"
    }
   ],
   "source": [
    "elmer_renderer.capacitance_matrix"
   ]
  },
  {
   "cell_type": "code",
   "execution_count": 16,
   "id": "07625769-38c4-4be7-9c64-9e4e7b993506",
   "metadata": {},
   "outputs": [
    {
     "name": "stderr",
     "output_type": "stream",
     "text": [
      "08:05PM 25s INFO [model]: Added new model 'post_processing' and set as current.\n"
     ]
    }
   ],
   "source": [
    "\n",
    "elmer_renderer.display_post_processing_data()"
   ]
  },
  {
   "cell_type": "code",
   "execution_count": 17,
   "id": "ca5cf807-4323-48d8-b6cd-f5e38f3b24d3",
   "metadata": {},
   "outputs": [],
   "source": [
    "\n",
    "elmer_renderer.save_capacitance_matrix(\"cap_matrix_official.txt\")\n",
    "\n",
    "elmer_renderer.close()"
   ]
  },
  {
   "cell_type": "code",
   "execution_count": 18,
   "id": "603f8d95-ac34-40e0-9574-53d0f6cde2b8",
   "metadata": {},
   "outputs": [
    {
     "name": "stderr",
     "output_type": "stream",
     "text": [
      "08:07PM 43s INFO [__init__]: TransmonBuilder with system_type TRANSMON registered to QuantumSystemRegistry\n",
      "08:07PM 43s INFO [__init__]: FluxoniumBuilder with system_type FLUXONIUM registered to QuantumSystemRegistry\n",
      "08:07PM 43s INFO [__init__]: TLResonatorBuilder with system_type TL_RESONATOR registered to QuantumSystemRegistry\n",
      "08:07PM 43s INFO [__init__]: LumpedResonatorBuilder with system_type LUMPED_RESONATOR registered to QuantumSystemRegistry\n"
     ]
    }
   ],
   "source": [
    "\n",
    "import numpy as np\n",
    "from qiskit_metal.analyses.quantization.lom_core_analysis import CompositeSystem, Cell, Subsystem \n",
    "from scipy.constants import speed_of_light as c_light\n",
    "import matplotlib.pyplot as plt\n",
    "%matplotlib inline"
   ]
  },
  {
   "cell_type": "code",
   "execution_count": 19,
   "id": "cf3df357-f1fe-4bd0-9510-02fd7e2a55bf",
   "metadata": {},
   "outputs": [],
   "source": [
    "\n",
    "cap_matrix = load_capacitance_matrix_from_file(\"cap_matrix_officiaL.txt\")"
   ]
  },
  {
   "cell_type": "code",
   "execution_count": 20,
   "id": "9705e531-ef68-4b6b-bbc6-6a8b69ba0a12",
   "metadata": {},
   "outputs": [],
   "source": [
    "\n",
    "opt1 = dict(\n",
    "    node_rename = {'Q1_coupler1_connector_pad': 'coupler1', 'Q1_coupler2_connector_pad': 'coupler2', 'Q1_readout_connector_pad': 'readout'}, \n",
    "    cap_mat = cap_matrix,\n",
    "    ind_dict = {('Q1_pad_top', 'Q1_pad_bot'): 12},  \n",
    "    jj_dict = {('Q1_pad_top', 'Q1_pad_bot'): 'j1'},\n",
    "    cj_dict = {('Q1_pad_top', 'Q1_pad_bot'): 2}, \n",
    ")\n",
    "cell_1 = Cell(opt1)"
   ]
  },
  {
   "cell_type": "code",
   "execution_count": 21,
   "id": "d5c8c296-13f9-4ec9-8daf-96f2f882b923",
   "metadata": {},
   "outputs": [],
   "source": [
    "\n",
    "transmon = Subsystem(name='transmon1_sys', sys_type='TRANSMON', nodes=['j1'])\n",
    "\n",
    "q_opts = dict(\n",
    "    f_res = 7.4, \n",
    "    Z0 = 50,\n",
    "    vp = 0.404314 * c_light\n",
    ")\n",
    "coup1 = Subsystem(name='coup1_sys', sys_type='TL_RESONATOR', nodes=['coupler1'], q_opts=q_opts)\n",
    "\n",
    "q_opts = dict(\n",
    "    f_res = 7.2, \n",
    "    Z0 = 50,\n",
    "    vp = 0.404314 * c_light \n",
    ")\n",
    "coup2 = Subsystem(name='coup2_sys', sys_type='TL_RESONATOR', nodes=['coupler2'], q_opts=q_opts)\n",
    "\n",
    "q_opts = dict(\n",
    "    f_res = 7,\n",
    "    Z0 = 50, \n",
    "    vp = 0.404314 * c_light \n",
    ")\n",
    "readout = Subsystem(name='readout_sys', sys_type='TL_RESONATOR', nodes=['readout'], q_opts=q_opts)"
   ]
  },
  {
   "cell_type": "code",
   "execution_count": 22,
   "id": "4f44c894-aa2b-4632-b513-da391f101b93",
   "metadata": {},
   "outputs": [],
   "source": [
    "\n",
    "composite_sys = CompositeSystem(\n",
    "    subsystems=[transmon, coup1, coup2, readout], \n",
    "    cells=[cell_1], \n",
    "    grd_node='ground_plane',\n",
    "    nodes_force_keep=['coupler1', 'coupler2', 'readout']\n",
    ")"
   ]
  },
  {
   "cell_type": "code",
   "execution_count": 23,
   "id": "86f39d01-c88f-4300-987f-0384703daf61",
   "metadata": {},
   "outputs": [
    {
     "name": "stdout",
     "output_type": "stream",
     "text": [
      "node_jj_basis:\n",
      "-------------\n",
      "\n",
      "['j1', 'Q1_pad_bot', 'coupler1', 'coupler2', 'readout']\n",
      "\n",
      "nodes_keep:\n",
      "-------------\n",
      "\n",
      "['j1', 'coupler1', 'coupler2', 'readout']\n",
      "\n",
      "\n",
      "L_inv_k (reduced inverse inductance matrix):\n",
      "-------------\n",
      "\n",
      "                j1  coupler1  coupler2  readout\n",
      "j1        0.083333       0.0       0.0      0.0\n",
      "coupler1  0.000000       0.0       0.0      0.0\n",
      "coupler2  0.000000       0.0       0.0      0.0\n",
      "readout   0.000000       0.0       0.0      0.0\n",
      "\n",
      "C_k (reduced capacitance matrix):\n",
      "-------------\n",
      "\n",
      "                 j1   coupler1   coupler2    readout\n",
      "j1        74.296680  -6.855830  -6.873110   8.860085\n",
      "coupler1  -6.855830  58.817943  -2.572670  -2.811047\n",
      "coupler2  -6.873110  -2.572670  59.231400  -2.813983\n",
      "readout    8.860085  -2.811047  -2.813983  63.778429\n",
      "\n",
      "\n"
     ]
    }
   ],
   "source": [
    "\n",
    "cg = composite_sys.circuitGraph()\n",
    "print(cg)"
   ]
  },
  {
   "cell_type": "code",
   "execution_count": 24,
   "id": "19fee4da-5659-4b3b-ad29-182565ee8933",
   "metadata": {},
   "outputs": [
    {
     "name": "stderr",
     "output_type": "stream",
     "text": [
      "WARNING:py.warnings:RuntimeWarning: divide by zero encountered in scalar divide\n",
      " c:\\Users\\itsme\\anaconda3\\envs\\qmetal\\lib\\site-packages\\qiskit_metal\\analyses\\quantization\\lom_core_analysis.py: 170\n",
      "WARNING:py.warnings:RuntimeWarning: divide by zero encountered in scalar divide\n",
      " c:\\Users\\itsme\\anaconda3\\envs\\qmetal\\lib\\site-packages\\qiskit_metal\\analyses\\quantization\\lom_core_analysis.py: 170\n",
      "WARNING:py.warnings:RuntimeWarning: divide by zero encountered in scalar divide\n",
      " c:\\Users\\itsme\\anaconda3\\envs\\qmetal\\lib\\site-packages\\qiskit_metal\\analyses\\quantization\\lom_core_analysis.py: 170\n"
     ]
    },
    {
     "name": "stdout",
     "output_type": "stream",
     "text": [
      "HilbertSpace:  subsystems\n",
      "-------------------------\n",
      "\n",
      "Transmon------------| [Transmon_1]\n",
      "                    | EJ: 13621.792733898432\n",
      "                    | EC: 270.6303337815318\n",
      "                    | ng: 0.001\n",
      "                    | ncut: 22\n",
      "                    | truncated_dim: 10\n",
      "                    |\n",
      "                    | dim: 45\n",
      "\n",
      "\n",
      "Oscillator----------| [Oscillator_1]\n",
      "                    | E_osc: 7400.0\n",
      "                    | l_osc: None\n",
      "                    | truncated_dim: 3\n",
      "                    |\n",
      "                    | dim: 3\n",
      "\n",
      "\n",
      "Oscillator----------| [Oscillator_2]\n",
      "                    | E_osc: 7200.0\n",
      "                    | l_osc: None\n",
      "                    | truncated_dim: 3\n",
      "                    |\n",
      "                    | dim: 3\n",
      "\n",
      "\n",
      "Oscillator----------| [Oscillator_3]\n",
      "                    | E_osc: 7000\n",
      "                    | l_osc: None\n",
      "                    | truncated_dim: 3\n",
      "                    |\n",
      "                    | dim: 3\n",
      "\n",
      "\n"
     ]
    }
   ],
   "source": [
    "\n",
    "hilbertspace = composite_sys.create_hilbertspace()\n",
    "print(hilbertspace)"
   ]
  },
  {
   "cell_type": "code",
   "execution_count": 25,
   "id": "c18d596f-1778-4bf1-852c-6a3c7c8dc927",
   "metadata": {},
   "outputs": [
    {
     "name": "stderr",
     "output_type": "stream",
     "text": [
      "WARNING:py.warnings:RuntimeWarning: divide by zero encountered in scalar divide\n",
      " c:\\Users\\itsme\\anaconda3\\envs\\qmetal\\lib\\site-packages\\qiskit_metal\\analyses\\quantization\\lom_core_analysis.py: 170\n",
      "WARNING:py.warnings:RuntimeWarning: divide by zero encountered in scalar divide\n",
      " c:\\Users\\itsme\\anaconda3\\envs\\qmetal\\lib\\site-packages\\qiskit_metal\\analyses\\quantization\\lom_core_analysis.py: 170\n",
      "WARNING:py.warnings:RuntimeWarning: divide by zero encountered in scalar divide\n",
      " c:\\Users\\itsme\\anaconda3\\envs\\qmetal\\lib\\site-packages\\qiskit_metal\\analyses\\quantization\\lom_core_analysis.py: 170\n"
     ]
    },
    {
     "data": {
      "text/latex": [
       "Quantum object: dims = [[10, 3, 3, 3], [10, 3, 3, 3]], shape = (270, 270), type = oper, isherm = True $ \\\\ \\left(\\begin{matrix}-1.098\\times10^{+04} & 0.097j & 0.0 & -0.083j & -10.409 & \\cdots & 0.0 & 0.0 & 0.0 & 0.0 & 0.0\\\\-0.097j & -3.976\\times10^{+03} & 0.137j & 10.409 & -0.083j & \\cdots & 0.0 & 0.0 & 0.0 & 0.0 & 0.0\\\\0.0 & -0.137j & 3.024\\times10^{+03} & 0.0 & 14.720 & \\cdots & 0.0 & 0.0 & 0.0 & 0.0 & 0.0\\\\0.083j & 10.409 & 0.0 & -3.776\\times10^{+03} & 0.097j & \\cdots & 0.0 & 0.0 & 0.0 & 0.0 & 0.0\\\\-10.409 & 0.083j & 14.720 & -0.097j & 3.224\\times10^{+03} & \\cdots & 0.0 & 0.0 & 0.0 & 0.0 & 0.0\\\\\\vdots & \\vdots & \\vdots & \\vdots & \\vdots & \\ddots & \\vdots & \\vdots & \\vdots & \\vdots & \\vdots\\\\0.0 & 0.0 & 0.0 & 0.0 & 0.0 & \\cdots & 5.694\\times10^{+04} & 662.202j & 14.720 & -567.296j & -20.817\\\\0.0 & 0.0 & 0.0 & 0.0 & 0.0 & \\cdots & -662.202j & 6.394\\times10^{+04} & 0.0 & 20.817 & -567.296j\\\\0.0 & 0.0 & 0.0 & 0.0 & 0.0 & \\cdots & 14.720 & 0.0 & 5.714\\times10^{+04} & 468.247j & 0.0\\\\0.0 & 0.0 & 0.0 & 0.0 & 0.0 & \\cdots & 567.296j & 20.817 & -468.247j & 6.414\\times10^{+04} & 662.202j\\\\0.0 & 0.0 & 0.0 & 0.0 & 0.0 & \\cdots & -20.817 & 567.296j & 0.0 & -662.202j & 7.114\\times10^{+04}\\\\\\end{matrix}\\right)$"
      ],
      "text/plain": [
       "Quantum object: dims = [[10, 3, 3, 3], [10, 3, 3, 3]], shape = (270, 270), type = oper, isherm = True\n",
       "Qobj data =\n",
       "[[-10975.96250154+0.00000000e+00j      0.        +9.72073787e-02j\n",
       "       0.        +0.00000000e+00j ...      0.        +0.00000000e+00j\n",
       "       0.        +0.00000000e+00j      0.        +0.00000000e+00j]\n",
       " [     0.        -9.72073787e-02j  -3975.96250154+0.00000000e+00j\n",
       "       0.        +1.37471993e-01j ...      0.        +0.00000000e+00j\n",
       "       0.        +0.00000000e+00j      0.        +0.00000000e+00j]\n",
       " [     0.        +0.00000000e+00j      0.        -1.37471993e-01j\n",
       "    3024.03749846+0.00000000e+00j ...      0.        +0.00000000e+00j\n",
       "       0.        +0.00000000e+00j      0.        +0.00000000e+00j]\n",
       " ...\n",
       " [     0.        +0.00000000e+00j      0.        +0.00000000e+00j\n",
       "       0.        +0.00000000e+00j ...  57138.12174359+0.00000000e+00j\n",
       "       0.        +4.68247310e+02j      0.        +0.00000000e+00j]\n",
       " [     0.        +0.00000000e+00j      0.        +0.00000000e+00j\n",
       "       0.        +0.00000000e+00j ...      0.        -4.68247310e+02j\n",
       "   64138.12174359+0.00000000e+00j      0.        +6.62201697e+02j]\n",
       " [     0.        +0.00000000e+00j      0.        +0.00000000e+00j\n",
       "       0.        +0.00000000e+00j ...      0.        +0.00000000e+00j\n",
       "       0.        -6.62201697e+02j  71138.12174359+0.00000000e+00j]]"
      ]
     },
     "execution_count": 25,
     "metadata": {},
     "output_type": "execute_result"
    }
   ],
   "source": [
    "\n",
    "hilbertspace = composite_sys.add_interaction()\n",
    "\n",
    "hilbertspace.hamiltonian()"
   ]
  },
  {
   "cell_type": "code",
   "execution_count": 26,
   "id": "b4c2cdfb-6ede-46eb-bbaf-c19f75b9a5d5",
   "metadata": {},
   "outputs": [
    {
     "name": "stdout",
     "output_type": "stream",
     "text": [
      "\n",
      "system frequencies in GHz:\n",
      "--------------------------\n",
      "{'transmon1_sys': 5.128366984427728, 'coup1_sys': 7.405254582888727, 'coup2_sys': 7.201399507829482, 'readout_sys': 7.004839150418283}\n",
      "\n",
      "Chi matrices in MHz\n",
      "--------------------------\n",
      "               transmon1_sys  coup1_sys  coup2_sys  readout_sys\n",
      "transmon1_sys    -305.484697  -1.438824  -1.023920    -2.448419\n",
      "coup1_sys          -1.438824   2.091841   0.081559    -0.004331\n",
      "coup2_sys          -1.023920   0.081559   2.027718     0.003093\n",
      "readout_sys        -2.448419  -0.004331   0.003093     2.805109\n"
     ]
    }
   ],
   "source": [
    "\n",
    "hamiltonian_results = composite_sys.hamiltonian_results(hilbertspace, evals_count=30)"
   ]
  },
  {
   "cell_type": "code",
   "execution_count": null,
   "id": "8c01e33b-c8fa-464a-bd02-fa8e87f48b5a",
   "metadata": {},
   "outputs": [],
   "source": [
    "chi_df = hamiltonian_results['chi_in_MHz'].to_dataframe()\n",
    "print(\"Transmon frequency     :\", hamiltonian_results['fQ_in_Ghz']['transmon1_sys'], \"GHz\")\n",
    "print(\"Transmon Anharmonicity :\", chi_df['transmon1_sys']['transmon1_sys'], \"MHz\")\n",
    "print(\"Readou chi             :\", chi_df['readout_sys']['transmon1_sys'], \"MHz\")"
   ]
  },
  {
   "cell_type": "code",
   "execution_count": 27,
   "id": "afdfe557-8d48-4a18-85bf-923aa2b63c07",
   "metadata": {},
   "outputs": [
    {
     "data": {
      "text/html": [
       "<div>\n",
       "<style scoped>\n",
       "    .dataframe tbody tr th:only-of-type {\n",
       "        vertical-align: middle;\n",
       "    }\n",
       "\n",
       "    .dataframe tbody tr th {\n",
       "        vertical-align: top;\n",
       "    }\n",
       "\n",
       "    .dataframe thead th {\n",
       "        text-align: right;\n",
       "    }\n",
       "</style>\n",
       "<table border=\"1\" class=\"dataframe\">\n",
       "  <thead>\n",
       "    <tr style=\"text-align: right;\">\n",
       "      <th></th>\n",
       "      <th>j1</th>\n",
       "      <th>coupler1</th>\n",
       "      <th>coupler2</th>\n",
       "      <th>readout</th>\n",
       "    </tr>\n",
       "  </thead>\n",
       "  <tbody>\n",
       "    <tr>\n",
       "      <th>j1</th>\n",
       "      <td>0.000000</td>\n",
       "      <td>85.328990</td>\n",
       "      <td>83.275897</td>\n",
       "      <td>-97.207505</td>\n",
       "    </tr>\n",
       "    <tr>\n",
       "      <th>coupler1</th>\n",
       "      <td>85.328990</td>\n",
       "      <td>0.000000</td>\n",
       "      <td>17.074252</td>\n",
       "      <td>10.685905</td>\n",
       "    </tr>\n",
       "    <tr>\n",
       "      <th>coupler2</th>\n",
       "      <td>83.275897</td>\n",
       "      <td>17.074252</td>\n",
       "      <td>0.000000</td>\n",
       "      <td>10.408605</td>\n",
       "    </tr>\n",
       "    <tr>\n",
       "      <th>readout</th>\n",
       "      <td>-97.207505</td>\n",
       "      <td>10.685905</td>\n",
       "      <td>10.408605</td>\n",
       "      <td>0.000000</td>\n",
       "    </tr>\n",
       "  </tbody>\n",
       "</table>\n",
       "</div>"
      ],
      "text/plain": [
       "                 j1   coupler1   coupler2    readout\n",
       "j1         0.000000  85.328990  83.275897 -97.207505\n",
       "coupler1  85.328990   0.000000  17.074252  10.685905\n",
       "coupler2  83.275897  17.074252   0.000000  10.408605\n",
       "readout  -97.207505  10.685905  10.408605   0.000000"
      ]
     },
     "execution_count": 27,
     "metadata": {},
     "output_type": "execute_result"
    }
   ],
   "source": [
    "\n",
    "composite_sys.compute_gs().to_dataframe()"
   ]
  },
  {
   "cell_type": "code",
   "execution_count": 28,
   "id": "963212c4-b31f-48c0-ac56-0058e477b9e0",
   "metadata": {},
   "outputs": [
    {
     "data": {
      "text/plain": [
       "defaultdict(dict,\n",
       "            {'j1': {'EJ': 13621.792733898432,\n",
       "              'EC': 270.6303337815318,\n",
       "              'Q_zpf': 3.204353268e-19,\n",
       "              'default_charge_op': Operator(op=array([[-22,   0,   0, ...,   0,   0,   0],\n",
       "                     [  0, -21,   0, ...,   0,   0,   0],\n",
       "                     [  0,   0, -20, ...,   0,   0,   0],\n",
       "                     ...,\n",
       "                     [  0,   0,   0, ...,  20,   0,   0],\n",
       "                     [  0,   0,   0, ...,   0,  21,   0],\n",
       "                     [  0,   0,   0, ...,   0,   0,  22]]), add_hc=False)}})"
      ]
     },
     "execution_count": 28,
     "metadata": {},
     "output_type": "execute_result"
    }
   ],
   "source": [
    "\n",
    "transmon.h_params"
   ]
  },
  {
   "cell_type": "code",
   "execution_count": 29,
   "id": "44627014-50d7-4f5c-b873-c7c438d6c6da",
   "metadata": {},
   "outputs": [
    {
     "name": "stderr",
     "output_type": "stream",
     "text": [
      "08:08PM 10s CRITICAL [_qt_message_handler]: line: 0, func: None(), file: None  WARNING: QWindowsNativeFileDialogBase::selectNameFilter: Invalid parameter '*.metal.py' not found in 'All Files (*)'.\n",
      "\n",
      "08:08PM 10s CRITICAL [_qt_message_handler]: line: 0, func: None(), file: None  WARNING: QWindowsNativeFileDialogBase::selectNameFilter: Invalid parameter '*.metal.py' not found in 'All Files (*)'.\n",
      "\n"
     ]
    },
    {
     "data": {
      "text/plain": [
       "True"
      ]
     },
     "execution_count": 29,
     "metadata": {},
     "output_type": "execute_result"
    }
   ],
   "source": [
    "\n",
    "gui.main_window.close()"
   ]
  },
  {
   "cell_type": "code",
   "execution_count": null,
   "id": "9c3428fa-7009-451d-9032-a54ecf888791",
   "metadata": {},
   "outputs": [],
   "source": []
  }
 ],
 "metadata": {
  "kernelspec": {
   "display_name": "qmetal",
   "language": "python",
   "name": "python3"
  },
  "language_info": {
   "codemirror_mode": {
    "name": "ipython",
    "version": 3
   },
   "file_extension": ".py",
   "mimetype": "text/x-python",
   "name": "python",
   "nbconvert_exporter": "python",
   "pygments_lexer": "ipython3",
   "version": "3.9.23"
  }
 },
 "nbformat": 4,
 "nbformat_minor": 5
}
