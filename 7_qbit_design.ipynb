{
 "cells": [
  {
   "cell_type": "code",
   "execution_count": 11,
   "metadata": {},
   "outputs": [],
   "source": [
    "import qiskit_metal as metal\n",
    "from qiskit_metal import MetalGUI, Dict, Headings, open_docs\n",
    "from qiskit_metal import designs, draw\n",
    "from qiskit_metal.qlibrary.tlines.meandered import RouteMeander\n",
    "\n",
    "\n"
   ]
  },
  {
   "cell_type": "code",
   "execution_count": 12,
   "metadata": {},
   "outputs": [
    {
     "name": "stderr",
     "output_type": "stream",
     "text": [
      "01:24AM 33s CRITICAL [_qt_message_handler]: line: 0, func: None(), file: None  CRITICAL: <QNSWindow: 0x7f91e61bfeb0; contentView=<QNSView: 0x7f91e61bf790; QCocoaWindow(0x7f91e61bf680, window=QWidgetWindow(0x7f91e61bf120, name=\"MainWindowPlotWindow\"))>> has active key-value observers (KVO)! These will stop working now that the window is recreated, and will result in exceptions when the observers are removed. Break in QCocoaWindow::recreateWindowIfNeeded to debug.\n",
      "\n",
      "01:24AM 34s CRITICAL [_qt_message_handler]: line: 0, func: None(), file: None  CRITICAL: <QNSWindow: 0x7f91c5429f00; contentView=<QNSView: 0x7f91c54297e0; QCocoaWindow(0x7f91c54296d0, window=QWidgetWindow(0x7f91c5429170, name=\"ElementsWindowWindow\"))>> has active key-value observers (KVO)! These will stop working now that the window is recreated, and will result in exceptions when the observers are removed. Break in QCocoaWindow::recreateWindowIfNeeded to debug.\n",
      "\n",
      "01:24AM 34s CRITICAL [_qt_message_handler]: line: 0, func: None(), file: None  CRITICAL: <QNSWindow: 0x7f91e55c95c0; contentView=<QNSView: 0x7f91e55c8e60; QCocoaWindow(0x7f91e55c8d50, window=QWidgetWindow(0x7f91e55c8440, name=\"MainWindowWindow\"))>> has active key-value observers (KVO)! These will stop working now that the window is recreated, and will result in exceptions when the observers are removed. Break in QCocoaWindow::recreateWindowIfNeeded to debug.\n",
      "\n",
      "01:24AM 34s CRITICAL [_qt_message_handler]: line: 0, func: None(), file: None  CRITICAL: <QNSWindow: 0x7f91e61eef30; contentView=<QNSView: 0x7f91e61ee810; QCocoaWindow(0x7f91e61ee700, window=QWidgetWindow(0x7f91e61ee100, name=\"NetListWindowWindow\"))>> has active key-value observers (KVO)! These will stop working now that the window is recreated, and will result in exceptions when the observers are removed. Break in QCocoaWindow::recreateWindowIfNeeded to debug.\n",
      "\n"
     ]
    }
   ],
   "source": [
    "design = designs.DesignPlanar()\n",
    "gui = MetalGUI(design)"
   ]
  },
  {
   "cell_type": "code",
   "execution_count": 13,
   "metadata": {},
   "outputs": [],
   "source": [
    "from qiskit_metal.qlibrary.qubits.transmon_pocket import TransmonPocket\n",
    "design.overwrite_enabled = True\n",
    "options = dict(\n",
    "    pad_width = '425 um',\n",
    "    pocket_height = '650um',\n",
    "    connection_pads = dict(  # pin connectors\n",
    "        a = dict(loc_W=+1,loc_H=+1),\n",
    "        b = dict(loc_W=-1,loc_H=+1, pad_height='30um'),\n",
    "        c = dict(loc_W=+1,loc_H=-1, pad_width='200um'),\n",
    "        d = dict(loc_W=-1,loc_H=-1, pad_height='50um')\n",
    "    )\n",
    ")\n",
    "\n",
    "q4 = TransmonPocket(design, 'Q4', options = dict(pos_x='+0.0mm', pos_y='+0.0mm', **options))\n",
    "q1 = TransmonPocket(design, 'Q1', options = dict(\n",
    "    pos_x='+1.1mm', pos_y='+0.3mm', orientation = '90', **options))\n",
    "q6 = TransmonPocket(design, 'Q6', options = dict(\n",
    "    pos_x='-1.1mm', pos_y='+0.3mm', orientation = '90', **options))\n",
    "q2 = TransmonPocket(design, 'Q2', options = dict(\n",
    "    pos_x='+2.7mm', pos_y='+0.8mm', orientation = '0', **options))\n",
    "q3 = TransmonPocket(design, 'Q3', options = dict(\n",
    "    pos_x='+2.7mm', pos_y='-0.3mm', orientation = '0', **options))\n",
    "q7 = TransmonPocket(design, 'Q7', options = dict(\n",
    "    pos_x='-2.7mm', pos_y='+0.8mm', orientation = '0', **options))\n",
    "q5 = TransmonPocket(design, 'Q5', options = dict(\n",
    "    pos_x='-2.7mm', pos_y='-0.3mm', orientation = '0', **options))"
   ]
  },
  {
   "cell_type": "code",
   "execution_count": 16,
   "metadata": {},
   "outputs": [
    {
     "name": "stderr",
     "output_type": "stream",
     "text": [
      "01:27AM 29s WARNING [check_lengths]: For path table, component=cpw_2, key=trace has short segments that could cause issues with fillet. Values in (1-1) (3-4)  are index(es) in shapely geometry.\n",
      "01:27AM 29s WARNING [check_lengths]: For path table, component=cpw_2, key=cut has short segments that could cause issues with fillet. Values in (1-1) (3-4)  are index(es) in shapely geometry.\n",
      "01:27AM 30s WARNING [check_lengths]: For path table, component=cpw_2, key=trace has short segments that could cause issues with fillet. Values in (1-1) (3-4)  are index(es) in shapely geometry.\n",
      "01:27AM 30s WARNING [check_lengths]: For path table, component=cpw_2, key=cut has short segments that could cause issues with fillet. Values in (1-1) (3-4)  are index(es) in shapely geometry.\n"
     ]
    }
   ],
   "source": [
    "ops=dict(fillet='90um')\n",
    "\n",
    "options = Dict(\n",
    "    total_length= '0.5mm',\n",
    "    hfss_wire_bonds = True,\n",
    "    pin_inputs=Dict(\n",
    "        start_pin=Dict(\n",
    "            component= 'Q1',\n",
    "            pin= 'a'),\n",
    "        end_pin=Dict(\n",
    "            component= 'Q4',\n",
    "            pin= 'a')),\n",
    "    lead=Dict(\n",
    "        start_straight='0mm',\n",
    "        end_straight='0.5mm'),\n",
    "    meander=Dict(\n",
    "       asymmetry='-1mm'),\n",
    "    **ops\n",
    ")\n",
    "\n",
    "try:\n",
    "    cpw.delete()\n",
    "except NameError: pass\n",
    "\n",
    "cpw = RouteMeander(design, options=options)\n",
    "gui.rebuild()\n",
    "gui.autoscale()\n",
    "gui.highlight_components(['Q1','Q2','Q3','Q4','Q5','Q6','Q7'])"
   ]
  }
 ],
 "metadata": {
  "kernelspec": {
   "display_name": "qiskit-metal-rosetta",
   "language": "python",
   "name": "python3"
  },
  "language_info": {
   "codemirror_mode": {
    "name": "ipython",
    "version": 3
   },
   "file_extension": ".py",
   "mimetype": "text/x-python",
   "name": "python",
   "nbconvert_exporter": "python",
   "pygments_lexer": "ipython3",
   "version": "3.9.23"
  }
 },
 "nbformat": 4,
 "nbformat_minor": 2
}
