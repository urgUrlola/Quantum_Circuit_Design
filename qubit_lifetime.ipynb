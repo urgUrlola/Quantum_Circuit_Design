{
 "cells": [
  {
   "cell_type": "code",
   "execution_count": null,
   "id": "72c26048",
   "metadata": {},
   "outputs": [],
   "source": [
    "# TRANSOMN RESONANCE FREQUENCY \n",
    "    # WG=(SQRT(8EJ)-EC/H)\n",
    "        #EJ = JOSHPEHON ENERGY \n",
    "        #EC = CAPCTIRO ENERGY \n",
    "        # H = PLANCK'S CONSTANT\n",
    "\n",
    "# BASED ON PAPER COMMON EC VALUES: 300 - 310 MHz ||| COMMON EJ VALUES: 15-25 GHz\n",
    "# A QUANTUM ENGINEER'S GUIDE. TO SUPERCONDUCTING QUBITS: \"Modern planar transmon qubits can achieve T₁ values in the 20–100 μs range depending on substrate, geometry, and environment.\""
   ]
  },
  {
   "cell_type": "code",
   "execution_count": 6,
   "id": "a07b1bda",
   "metadata": {},
   "outputs": [
    {
     "name": "stdout",
     "output_type": "stream",
     "text": [
      "Resonace frequency: 5700000000.0\n"
     ]
    }
   ],
   "source": [
    "import numpy as np \n",
    "import matplotlib.pyplot as plt\n",
    "from qutip import *\n",
    "\n",
    "h= 6.62607015e-34\n",
    "EC= 300e6 * h\n",
    "EJ=15e9 * h\n",
    "\n",
    "wq=(np.sqrt(8*EJ*EC)-EC)/h\n",
    "print(\"Resonace frequency: \" + str(wq))"
   ]
  },
  {
   "cell_type": "code",
   "execution_count": null,
   "id": "0834e7d3",
   "metadata": {},
   "outputs": [
    {
     "name": "stdout",
     "output_type": "stream",
     "text": [
      "1.01378873295e-23\n"
     ]
    }
   ],
   "source": [
    "T1=40e-6\n",
    "T2=60e-6\n"
   ]
  },
  {
   "cell_type": "code",
   "execution_count": null,
   "id": "9f3e48d6",
   "metadata": {},
   "outputs": [],
   "source": [
    "\n"
   ]
  }
 ],
 "metadata": {
  "kernelspec": {
   "display_name": "qmetal-env",
   "language": "python",
   "name": "python3"
  },
  "language_info": {
   "codemirror_mode": {
    "name": "ipython",
    "version": 3
   },
   "file_extension": ".py",
   "mimetype": "text/x-python",
   "name": "python",
   "nbconvert_exporter": "python",
   "pygments_lexer": "ipython3",
   "version": "3.9.13"
  }
 },
 "nbformat": 4,
 "nbformat_minor": 5
}
